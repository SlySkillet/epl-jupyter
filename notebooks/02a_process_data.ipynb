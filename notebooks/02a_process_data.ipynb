{
 "cells": [
  {
   "cell_type": "markdown",
   "metadata": {},
   "source": [
    "# Process Data with Module\n",
    "\n",
    "### Instructions\n",
    "Click 'Run all' and procede to `03_retrieve_odds.ipynb`\n",
    "The first cell prints the dataframes if you need to check that everything looks correct.\n",
    "Procede to `03_retrieve_odds.ipynb`\n",
    "\n",
    "\n",
    "This notebook shows the usage for processing raw data with the `ProcessData` module after running `01_scrape_and_save_data.ipynb`\n",
    "Logic from `02_process_data.ipynb` is now performed by `ProcessData` module to symplify a frequently repeated task.\n",
    "\n",
    "`ProcessData()` initializes an object with cleaned dataframes containing calculated `gpm_scored` (goals per match scored) and `gpm_conceded` (goals per match conceded) columns.\n",
    "Home and Away dataframes are stored in the ProcessData object. They can be accessed with `<obj_name>.home_df` and `<obj_name>.away_df` as needed.\n",
    "\n",
    "### Note on file structure:\n",
    "Currently this method requires the following directory structure and naming:\n",
    "```bash\n",
    "├── README.md\n",
    "├── data\n",
    "│   ├── processed\n",
    "│   │   ├── away_table.csv\n",
    "│   │   ├── home_table.csv\n",
    "│   │   └── odds\n",
    "│   └── raw\n",
    "│       ├── away_table_raw.csv\n",
    "│       └── home_table_raw.csv\n",
    "├── notebooks\n",
    "├── outputs\n",
    "├── requirements.txt\n",
    "├── src\n",
    "```\n",
    "If alternate file paths are needed they can be passed as parameters to ProcessData as 'home_table_raw_path` and 'away_table_raw_path` eg.\n",
    "```python\n",
    "data = ProcessData(\n",
    "    home_table_raw_path='path/to/raw_home_table',\n",
    "    away_table_raw_path='path/to/raw_away_table'\n",
    ")\n",
    "```\n",
    "Likewise, `save_to_csv` can be customized with parameter 'directory_path' eg.\n",
    "```python\n",
    "data.save_to_csv(directory_path='custom/dir/path')\n",
    "```\n",
    "Note csv will always save as `away_table.csv` and `home_table.csv`"
   ]
  },
  {
   "cell_type": "code",
   "execution_count": null,
   "metadata": {},
   "outputs": [],
   "source": [
    "import sys\n",
    "sys.path.append('../src')\n",
    "\n",
    "from understat_api.process_data import ProcessData\n",
    "\n",
    "data = ProcessData()\n",
    "\n",
    "print(\"\\n <~~~ Home Data ~~~>\\n\", data.home_df)\n",
    "\n",
    "print(\"\\n\\n <~~~ Away Data ~~~>\\n\", data.away_df)\n"
   ]
  },
  {
   "cell_type": "code",
   "execution_count": null,
   "metadata": {},
   "outputs": [],
   "source": [
    "data.save_to_csv()"
   ]
  },
  {
   "cell_type": "code",
   "execution_count": null,
   "metadata": {},
   "outputs": [],
   "source": []
  }
 ],
 "metadata": {
  "kernelspec": {
   "display_name": ".venv",
   "language": "python",
   "name": "python3"
  },
  "language_info": {
   "codemirror_mode": {
    "name": "ipython",
    "version": 3
   },
   "file_extension": ".py",
   "mimetype": "text/x-python",
   "name": "python",
   "nbconvert_exporter": "python",
   "pygments_lexer": "ipython3",
   "version": "3.12.1"
  }
 },
 "nbformat": 4,
 "nbformat_minor": 2
}
