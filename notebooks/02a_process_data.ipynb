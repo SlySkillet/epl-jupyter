{
 "cells": [
  {
   "cell_type": "markdown",
   "metadata": {},
   "source": [
    "# Process Data with Module\n",
    "\n",
    "### Instructions\n",
    "Click 'Run all' and procede to `03_retrieve_odds.ipynb`\n",
    "The first cell prints the dataframes if you need to check that everything looks correct.\n",
    "Procede to `03_retrieve_odds.ipynb`\n",
    "\n",
    "\n",
    "This notebook shows the usage for processing raw data with the `ProcessData` module after running `01_scrape_and_save_data.ipynb`\n",
    "Logic from `02_process_data.ipynb` is now performed by `ProcessData` module to symplify a frequently repeated task.\n",
    "\n",
    "`ProcessData()` initializes an object with cleaned dataframes containing calculated `gpm_scored` (goals per match scored) and `gpm_conceded` (goals per match conceded) columns.\n",
    "Home and Away dataframes are stored in the ProcessData object. They can be accessed with `<obj_name>.home_df` and `<obj_name>.away_df` as needed.\n",
    "\n",
    "### Note on file structure:\n",
    "Currently this method requires the following directory structure and naming:\n",
    "```bash\n",
    "├── README.md\n",
    "├── data\n",
    "│   ├── processed\n",
    "│   │   ├── away_table.csv\n",
    "│   │   ├── home_table.csv\n",
    "│   │   └── odds\n",
    "│   └── raw\n",
    "│       ├── away_table_raw.csv\n",
    "│       └── home_table_raw.csv\n",
    "├── notebooks\n",
    "├── outputs\n",
    "├── requirements.txt\n",
    "├── src\n",
    "```\n",
    "If alternate file paths are needed they can be passed as parameters to ProcessData as 'home_table_raw_path` and 'away_table_raw_path` eg.\n",
    "```python\n",
    "data = ProcessData(\n",
    "    home_table_raw_path='path/to/raw_home_table',\n",
    "    away_table_raw_path='path/to/raw_away_table'\n",
    ")\n",
    "```\n",
    "Likewise, `save_to_csv` can be customized with parameter 'directory_path' eg.\n",
    "```python\n",
    "data.save_to_csv(directory_path='custom/dir/path')\n",
    "```\n",
    "Note csv will always save as `away_table.csv` and `home_table.csv`"
   ]
  },
  {
   "cell_type": "code",
   "execution_count": 3,
   "metadata": {},
   "outputs": [
    {
     "name": "stdout",
     "output_type": "stream",
     "text": [
      "\n",
      " <~~~ Home Data ~~~>\n",
      "      №                     Team  M   G  GA  gpm_scored  gpm_conceded\n",
      "0    1                Brentford  8  26  14    3.250000      1.750000\n",
      "1    2                Liverpool  8  15   5    1.875000      0.625000\n",
      "2    3                  Arsenal  8  17   6    2.125000      0.750000\n",
      "3    4          Manchester City  8  16  12    2.000000      1.500000\n",
      "4    5                  Chelsea  8  14   9    1.750000      1.125000\n",
      "5    6              Aston Villa  8  13   9    1.625000      1.125000\n",
      "6    7         Newcastle United  8  12   8    1.500000      1.000000\n",
      "7    8              Bournemouth  8  11   7    1.375000      0.875000\n",
      "8    9        Nottingham Forest  8  10   7    1.250000      0.875000\n",
      "9   10                   Fulham  8  14  13    1.750000      1.625000\n",
      "10  11                Tottenham  8  20  11    2.500000      1.375000\n",
      "11  12        Manchester United  8  13  11    1.625000      1.375000\n",
      "12  13                 Brighton  8  13  12    1.625000      1.500000\n",
      "13  14                 West Ham  8  12  16    1.500000      2.000000\n",
      "14  15                  Everton  7   9   8    1.285714      1.142857\n",
      "15  16                Leicester  8  11  12    1.375000      1.500000\n",
      "16  17           Crystal Palace  8   6  10    0.750000      1.250000\n",
      "17  18                  Ipswich  8   6  12    0.750000      1.500000\n",
      "18  19  Wolverhampton Wanderers  8  12  20    1.500000      2.500000\n",
      "19  20              Southampton  8   7  21    0.875000      2.625000\n",
      "\n",
      "\n",
      " <~~~ Away Data ~~~>\n",
      "      №                     Team  M   G  GA  gpm_scored  gpm_conceded\n",
      "0    1                  Chelsea  8  23  10    2.875000      1.250000\n",
      "1    2                Liverpool  7  16   8    2.285714      1.142857\n",
      "2    3        Nottingham Forest  8  11  12    1.375000      1.500000\n",
      "3    4                  Arsenal  8  12   9    1.500000      1.125000\n",
      "4    5          Manchester City  8  12  11    1.500000      1.375000\n",
      "5    6                 Brighton  8  13  13    1.625000      1.625000\n",
      "6    7              Bournemouth  8  13  14    1.625000      1.750000\n",
      "7    8                Tottenham  8  16   8    2.000000      1.000000\n",
      "8    9                   Fulham  8  10   9    1.250000      1.125000\n",
      "9   10              Aston Villa  8  11  16    1.375000      2.000000\n",
      "10  11           Crystal Palace  8  11  11    1.375000      1.375000\n",
      "11  12        Manchester United  8   8   8    1.000000      1.000000\n",
      "12  13         Newcastle United  8  11  13    1.375000      1.625000\n",
      "13  14                 West Ham  8   9  13    1.125000      1.625000\n",
      "14  15                  Ipswich  8  10  16    1.250000      2.000000\n",
      "15  16                  Everton  8   5  13    0.625000      1.625000\n",
      "16  17  Wolverhampton Wanderers  8  12  20    1.500000      2.500000\n",
      "17  18                Leicester  8  10  22    1.250000      2.750000\n",
      "18  19                Brentford  8   6  16    0.750000      2.000000\n",
      "19  20              Southampton  8   4  15    0.500000      1.875000\n"
     ]
    }
   ],
   "source": [
    "import sys\n",
    "sys.path.append('../src')\n",
    "\n",
    "from understat_api.process_data import ProcessData\n",
    "\n",
    "data = ProcessData()\n",
    "\n",
    "print(\"\\n <~~~ Home Data ~~~>\\n\", data.home_df)\n",
    "\n",
    "print(\"\\n\\n <~~~ Away Data ~~~>\\n\", data.away_df)\n"
   ]
  },
  {
   "cell_type": "code",
   "execution_count": null,
   "metadata": {},
   "outputs": [],
   "source": [
    "data.save_to_csv()"
   ]
  }
 ],
 "metadata": {
  "kernelspec": {
   "display_name": ".venv",
   "language": "python",
   "name": "python3"
  },
  "language_info": {
   "codemirror_mode": {
    "name": "ipython",
    "version": 3
   },
   "file_extension": ".py",
   "mimetype": "text/x-python",
   "name": "python",
   "nbconvert_exporter": "python",
   "pygments_lexer": "ipython3",
   "version": "3.12.1"
  }
 },
 "nbformat": 4,
 "nbformat_minor": 2
}
