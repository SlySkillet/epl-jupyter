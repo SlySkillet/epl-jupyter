{
 "cells": [
  {
   "cell_type": "markdown",
   "metadata": {},
   "source": [
    "# Process Data\n",
    "\n",
    "*RUN ALL FRAMES TO PREPARE DATA FOR ANALYSIS*\n",
    "\n",
    "### Description:\n",
    "\n",
    "*Because I am prototyping my method, I am holding off on breaking the following logic into a python module.*\n",
    "\n",
    "The goal of this notebook is to, ***for both home and away tables:***\n",
    "- (1) remove the unneeded data from the raw csv files\n",
    "- (2) calculate **goals per match scored** and save to a new column\n",
    "- (3) calculate **goals per match conceded** and save to a new column\n",
    "\n",
    "\n"
   ]
  },
  {
   "cell_type": "markdown",
   "metadata": {},
   "source": [
    "### (1) Remove Unneeded Data\n",
    "\n",
    "For our analysis we are interested in the average goals scored and conceded. To keep our data frames focused, we will drop the following columns:\n",
    "- Wins (W)\n",
    "- Draws (D)\n",
    "- Losses (L)\n",
    "- Points (PTS)\n",
    "- Expected Goals (xG)\n",
    "- Expected Goals Against (xGA)\n",
    "- Expected Points (xPTS)"
   ]
  },
  {
   "cell_type": "markdown",
   "metadata": {},
   "source": []
  },
  {
   "cell_type": "code",
   "execution_count": 16,
   "metadata": {},
   "outputs": [],
   "source": [
    "import pandas as pd\n",
    "\n",
    "# load data into dataframes\n",
    "home_df = pd.read_csv('../data/raw/home_table_raw.csv')\n",
    "away_df = pd.read_csv('../data/raw/away_table_raw.csv')\n",
    "\n",
    "# drop unneeded columns\n",
    "columns_to_drop = [\n",
    "        'W',\n",
    "        'D',\n",
    "        'L',\n",
    "        'PTS',\n",
    "        'xG',\n",
    "        'xGA',\n",
    "        'xPTS',\n",
    "    ]\n",
    "\n",
    "home_df_clean = home_df.drop(columns=columns_to_drop)\n",
    "away_df_clean = away_df.drop(columns=columns_to_drop)\n",
    "\n",
    "\"\"\"\n",
    "Clean data\n",
    "We need to perform some arithmetic on columns that are storing numbers as strings. This next\n",
    "step converts Matches (M), Goals Scored (G), and Goals Conceded (GA) to numbers.\n",
    "\"\"\"\n",
    "columns_to_clean = ['M', 'G', 'GA']\n",
    "\n",
    "home_df_clean[columns_to_clean] = home_df_clean[columns_to_clean].apply(\n",
    "    pd.to_numeric,\n",
    "    errors='coerce'\n",
    ")\n",
    "\n",
    "away_df_clean[columns_to_clean] = away_df_clean[columns_to_clean].apply(\n",
    "    pd.to_numeric,\n",
    "    errors='coerce'\n",
    ")\n"
   ]
  },
  {
   "cell_type": "markdown",
   "metadata": {},
   "source": [
    "### (2) Calculate **goals per match scored** and save to a new column\n",
    "\n",
    "Now we're ready to calculate the goals per match scored for each team when they are playing at home and away.\n",
    "\n",
    "\n",
    "$gpm = G / M$\n",
    "\n",
    "We save this as gpm_scored in each dataframe.\n",
    "\n"
   ]
  },
  {
   "cell_type": "code",
   "execution_count": 17,
   "metadata": {},
   "outputs": [],
   "source": [
    "home_df_clean[\"gpm_scored\"] = home_df_clean[\"G\"] / home_df_clean[\"M\"]\n",
    "away_df_clean[\"gpm_scored\"] = away_df_clean[\"G\"] / away_df_clean[\"M\"]"
   ]
  },
  {
   "cell_type": "markdown",
   "metadata": {},
   "source": [
    "### (3) calculate **goals per match conceded** and save to a new column\n",
    "\n",
    "We do the same opperation for goals per match conceded.\n",
    "\n",
    "$gpm = GA / M$\n",
    "\n",
    "At this point our data is ready for analysis. We print it to visualize and save it to csv files in `data/processed/` and procede to analysis."
   ]
  },
  {
   "cell_type": "code",
   "execution_count": null,
   "metadata": {},
   "outputs": [
    {
     "name": "stdout",
     "output_type": "stream",
     "text": [
      "\n",
      "======================   ~ home_df cleaned ~   =====================\n",
      "\n",
      "      №                     Team  M   G  GA  gpm_scored  gpm_conceded\n",
      "0    1                Brentford  8  26  14    3.250000      1.750000\n",
      "1    2                Liverpool  7  13   3    1.857143      0.428571\n",
      "2    3                  Arsenal  7  17   6    2.428571      0.857143\n",
      "3    4          Manchester City  7  15  10    2.142857      1.428571\n",
      "4    5              Aston Villa  8  13   9    1.625000      1.125000\n",
      "5    6                   Fulham  8  14  13    1.750000      1.625000\n",
      "6    7                Tottenham  8  20  11    2.500000      1.375000\n",
      "7    8              Bournemouth  7  10   6    1.428571      0.857143\n",
      "8    9                 Brighton  7  12   9    1.714286      1.285714\n",
      "9   10        Manchester United  8  13  11    1.625000      1.375000\n",
      "10  11                  Chelsea  7  12   8    1.714286      1.142857\n",
      "11  12        Nottingham Forest  7   8   6    1.142857      0.857143\n",
      "12  13         Newcastle United  7   8   8    1.142857      1.142857\n",
      "13  14                 West Ham  8  12  16    1.500000      2.000000\n",
      "14  15                  Everton  7   9   8    1.285714      1.142857\n",
      "15  16                Leicester  8  11  12    1.375000      1.500000\n",
      "16  17           Crystal Palace  8   6  10    0.750000      1.250000\n",
      "17  18                  Ipswich  8   6  12    0.750000      1.500000\n",
      "18  19  Wolverhampton Wanderers  7  11  18    1.571429      2.571429\n",
      "19  20              Southampton  7   7  16    1.000000      2.285714\n",
      "\n",
      "\n",
      "======================   ~ away_df cleaned ~   =====================\n",
      "\n",
      "      №                     Team  M   G  GA  gpm_scored  gpm_conceded\n",
      "0    1                  Chelsea  8  23  10    2.875000      1.250000\n",
      "1    2                Liverpool  7  16   8    2.285714      1.142857\n",
      "2    3        Nottingham Forest  8  11  12    1.375000      1.500000\n",
      "3    4                  Arsenal  8  12   9    1.500000      1.125000\n",
      "4    5          Manchester City  8  12  11    1.500000      1.375000\n",
      "5    6                 Brighton  8  13  13    1.625000      1.625000\n",
      "6    7              Bournemouth  8  13  14    1.625000      1.750000\n",
      "7    8              Aston Villa  7  10  14    1.428571      2.000000\n",
      "8    9                   Fulham  7   8   7    1.142857      1.000000\n",
      "9   10         Newcastle United  8  11  13    1.375000      1.625000\n",
      "10  11                 West Ham  7   8  12    1.142857      1.714286\n",
      "11  12                Tottenham  7  11   8    1.571429      1.142857\n",
      "12  13        Manchester United  7   6   7    0.857143      1.000000\n",
      "13  14           Crystal Palace  7   8  10    1.142857      1.428571\n",
      "14  15                  Ipswich  7   8  15    1.142857      2.142857\n",
      "15  16  Wolverhampton Wanderers  8  12  20    1.500000      2.500000\n",
      "16  17                Leicester  7  10  18    1.428571      2.571429\n",
      "17  18                  Everton  7   5  13    0.714286      1.857143\n",
      "18  19                Brentford  7   5  14    0.714286      2.000000\n",
      "19  20              Southampton  8   4  15    0.500000      1.875000\n"
     ]
    }
   ],
   "source": [
    "home_df_clean[\"gpm_conceded\"] = home_df_clean[\"GA\"] / home_df_clean[\"M\"]\n",
    "away_df_clean[\"gpm_conceded\"] = away_df_clean[\"GA\"] / away_df_clean[\"M\"]\n",
    "\n",
    "home_df_clean.to_csv('../data/processed/home_table.csv')\n",
    "away_df_clean.to_csv('../data/processed/away_table.csv')\n",
    "\n",
    "print(\"\\n======================   ~ home_df cleaned ~   =====================\\n\\n\", home_df_clean)\n",
    "print(\"\\n\\n======================   ~ away_df cleaned ~   =====================\\n\\n\", away_df_clean)\n"
   ]
  },
  {
   "cell_type": "code",
   "execution_count": null,
   "metadata": {},
   "outputs": [],
   "source": []
  }
 ],
 "metadata": {
  "kernelspec": {
   "display_name": ".venv",
   "language": "python",
   "name": "python3"
  },
  "language_info": {
   "codemirror_mode": {
    "name": "ipython",
    "version": 3
   },
   "file_extension": ".py",
   "mimetype": "text/x-python",
   "name": "python",
   "nbconvert_exporter": "python",
   "pygments_lexer": "ipython3",
   "version": "3.12.1"
  }
 },
 "nbformat": 4,
 "nbformat_minor": 2
}
