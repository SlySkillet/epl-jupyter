{
 "cells": [
  {
   "cell_type": "markdown",
   "metadata": {},
   "source": [
    "# Process Data\n",
    "### Description:\n",
    "\n",
    "*Because I am prototyping my method, I am holding off on breaking the following logic into a python module.*\n",
    "\n",
    "*UPDATE: I now have a module for these operations. Example usage in 02a_process_data.ipynb*\n",
    "\n",
    "The goal of this notebook is to, ***for both home and away tables:***\n",
    "- (1) remove the unneeded data from the raw csv files\n",
    "- (2) calculate **goals per match scored** and save to a new column\n",
    "- (3) calculate **goals per match conceded** and save to a new column\n",
    "\n",
    "### Instructions:\n",
    "'Run all' to clean and process updateded data to prepare for analysis\n",
    "\n",
    "Visually confirm that all data is present in data frames in final cell\n",
    "\n",
    "Confirm that data is saved in `../data/processed/home_table.csv` and `../data/processed/away_table.csv`\n",
    "\n"
   ]
  },
  {
   "cell_type": "markdown",
   "metadata": {},
   "source": [
    "### (1) Remove Unneeded Data\n",
    "\n",
    "For our analysis we are interested in the average goals scored and conceded. To keep our data frames focused, we will drop the following columns:\n",
    "- Wins (W)\n",
    "- Draws (D)\n",
    "- Losses (L)\n",
    "- Points (PTS)\n",
    "- Expected Goals (xG)\n",
    "- Expected Goals Against (xGA)\n",
    "- Expected Points (xPTS)"
   ]
  },
  {
   "cell_type": "code",
   "execution_count": null,
   "metadata": {},
   "outputs": [],
   "source": [
    "import pandas as pd\n",
    "\n",
    "# load data into dataframes\n",
    "home_df = pd.read_csv('../data/raw/home_table_raw.csv')\n",
    "away_df = pd.read_csv('../data/raw/away_table_raw.csv')\n",
    "\n",
    "# drop unneeded columns\n",
    "columns_to_drop = [\n",
    "        'W',\n",
    "        'D',\n",
    "        'L',\n",
    "        'PTS',\n",
    "        'xG',\n",
    "        'xGA',\n",
    "        'xPTS',\n",
    "    ]\n",
    "\n",
    "home_df_clean = home_df.drop(columns=columns_to_drop)\n",
    "away_df_clean = away_df.drop(columns=columns_to_drop)\n",
    "\n",
    "\"\"\"\n",
    "Clean data\n",
    "We need to perform some arithmetic on columns that are storing numbers as strings. This next\n",
    "step converts Matches (M), Goals Scored (G), and Goals Conceded (GA) to numbers.\n",
    "\"\"\"\n",
    "columns_to_clean = ['M', 'G', 'GA']\n",
    "\n",
    "home_df_clean[columns_to_clean] = home_df_clean[columns_to_clean].apply(\n",
    "    pd.to_numeric,\n",
    "    errors='coerce'\n",
    ")\n",
    "\n",
    "away_df_clean[columns_to_clean] = away_df_clean[columns_to_clean].apply(\n",
    "    pd.to_numeric,\n",
    "    errors='coerce'\n",
    ")\n"
   ]
  },
  {
   "cell_type": "markdown",
   "metadata": {},
   "source": [
    "### (2) Calculate **goals per match scored** and save to a new column\n",
    "\n",
    "Now we're ready to calculate the goals per match scored for each team when they are playing at home and away.\n",
    "\n",
    "\n",
    "$gpm = G / M$\n",
    "\n",
    "We save this as gpm_scored in each dataframe.\n",
    "\n"
   ]
  },
  {
   "cell_type": "code",
   "execution_count": null,
   "metadata": {},
   "outputs": [],
   "source": [
    "home_df_clean[\"gpm_scored\"] = home_df_clean[\"G\"] / home_df_clean[\"M\"]\n",
    "away_df_clean[\"gpm_scored\"] = away_df_clean[\"G\"] / away_df_clean[\"M\"]"
   ]
  },
  {
   "cell_type": "markdown",
   "metadata": {},
   "source": [
    "### (3) calculate **goals per match conceded** and save to a new column\n",
    "\n",
    "We do the same opperation for goals per match conceded.\n",
    "\n",
    "$gpm = GA / M$\n",
    "\n",
    "At this point our data is ready for analysis. We print it to visualize and save it to csv files in `data/processed/` and procede to analysis."
   ]
  },
  {
   "cell_type": "code",
   "execution_count": null,
   "metadata": {},
   "outputs": [],
   "source": [
    "home_df_clean[\"gpm_conceded\"] = home_df_clean[\"GA\"] / home_df_clean[\"M\"]\n",
    "away_df_clean[\"gpm_conceded\"] = away_df_clean[\"GA\"] / away_df_clean[\"M\"]\n",
    "\n",
    "home_df_clean.to_csv('../data/processed/home_table.csv', index=False)\n",
    "print(\"\\nhome_df_clean saved to '../data/processed/home_table.csv'\")\n",
    "print(\"\\n======================   ~ home_df cleaned ~   =====================\\n\\n\", home_df_clean)\n",
    "\n",
    "away_df_clean.to_csv('../data/processed/away_table.csv', index=False)\n",
    "print(\"\\n\\naway_df_clean saved to '../data/processed/away_table.csv'\")\n",
    "print(\"\\n\\n======================   ~ away_df cleaned ~   =====================\\n\\n\", away_df_clean)\n"
   ]
  },
  {
   "cell_type": "code",
   "execution_count": null,
   "metadata": {},
   "outputs": [],
   "source": []
  }
 ],
 "metadata": {
  "kernelspec": {
   "display_name": ".venv",
   "language": "python",
   "name": "python3"
  },
  "language_info": {
   "codemirror_mode": {
    "name": "ipython",
    "version": 3
   },
   "file_extension": ".py",
   "mimetype": "text/x-python",
   "name": "python",
   "nbconvert_exporter": "python",
   "pygments_lexer": "ipython3",
   "version": "3.12.1"
  }
 },
 "nbformat": 4,
 "nbformat_minor": 2
}
