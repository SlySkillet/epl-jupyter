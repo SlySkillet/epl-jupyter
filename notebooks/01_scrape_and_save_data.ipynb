{
 "cells": [
  {
   "cell_type": "markdown",
   "metadata": {},
   "source": [
    "# Scrape and Save Data\n",
    "### Description:\n",
    "This file runs the UnderstatScraper found in `src` to retrieve the English Premier League results for all 'home' matches and all 'away' matches and saves them top raw data csvs in the `data/raw/` directory.\n",
    "\n",
    "All probability calculations depend on this data being up to date.\n",
    "\n",
    "### Instructions: \n",
    "Only one cell! 'Run all' or 'shift + enter' to scrape the current Premier League table\n",
    "\n",
    "Confirm that `../data/raw/away_table.csv` and `../data/raw/away_table.csv` are updated.\n",
    "\n",
    "When finished, procede to `02_process_data.ipynb`\n"
   ]
  },
  {
   "cell_type": "code",
   "execution_count": null,
   "metadata": {},
   "outputs": [],
   "source": [
    "import sys\n",
    "sys.path.append('../src')\n",
    "\n",
    "from understat_api.understat_scraper import UnderstatScraperOrchestrator\n",
    "\n",
    "scraper = UnderstatScraperOrchestrator()\n",
    "\n",
    "scraper.scrape_all_to_csv()\n"
   ]
  },
  {
   "cell_type": "code",
   "execution_count": null,
   "metadata": {},
   "outputs": [],
   "source": []
  }
 ],
 "metadata": {
  "kernelspec": {
   "display_name": ".venv",
   "language": "python",
   "name": "python3"
  },
  "language_info": {
   "codemirror_mode": {
    "name": "ipython",
    "version": 3
   },
   "file_extension": ".py",
   "mimetype": "text/x-python",
   "name": "python",
   "nbconvert_exporter": "python",
   "pygments_lexer": "ipython3",
   "version": "3.12.1"
  }
 },
 "nbformat": 4,
 "nbformat_minor": 4
}
