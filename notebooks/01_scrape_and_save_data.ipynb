{
 "cells": [
  {
   "cell_type": "markdown",
   "metadata": {},
   "source": [
    "# Scrape and Save Data\n",
    "### Description:\n",
    "This file runs the UnderstatScraper found in `src` to retrieve the English Premier League results for all 'home' matches and all 'away' matches and saves them top raw data csvs in the `data/raw/` directory.\n",
    "\n",
    "All probability calculations depend on this data being up to date.\n",
    "\n",
    "### Instructions: \n",
    "Only one cell! 'Run all' or 'shift + enter' to scrape the current Premier League table\n",
    "\n",
    "Confirm that `../data/raw/away_table.csv` and `../data/raw/away_table.csv` are updated.\n",
    "\n",
    "When finished, procede to `02_process_data.ipynb`\n"
   ]
  },
  {
   "cell_type": "code",
   "execution_count": null,
   "metadata": {},
   "outputs": [
    {
     "name": "stdout",
     "output_type": "stream",
     "text": [
      "Retrieving raw data from Understat.com EPL home table\n",
      "scraper is locating element... check\n",
      "element located:  <selenium.webdriver.remote.webelement.WebElement (session=\"02965c4659704a9ed292353e09230a75\", element=\"f.08AE6B1923C156B79DF8D89B1F87E6BB.d.CCDCA9E61A9455DB39B536CFB907D223.e.32\")>\n",
      "element html:  <input id=\"home-away2\" type=\"radio\" name=\"home-away\" value=\"h\">\n",
      "clicked the button\n",
      "checking table update...\n",
      "confirmed table updated successfully\n",
      "found table\n",
      "closing driver...\n",
      "driver closed\n",
      "writing data to ../data/raw/home_table_raw.csv\n",
      "Finished\n",
      "Retrieving raw data from Understat.com EPL away table\n",
      "scraper is locating element... check\n",
      "element located:  <selenium.webdriver.remote.webelement.WebElement (session=\"02dc219c26358c4b6d0e80491889817a\", element=\"f.DF18777975E4DB2B12AB098FA68E2CE8.d.E555DEC61E3DE7C9396350EF78C7E880.e.34\")>\n",
      "element html:  <input id=\"home-away3\" type=\"radio\" name=\"home-away\" value=\"a\">\n",
      "clicked the button\n",
      "checking table update...\n",
      "confirmed table updated successfully\n",
      "found table\n",
      "closing driver...\n",
      "driver closed\n",
      "writing data to ../data/raw/away_table_raw.csv\n",
      "Finished\n"
     ]
    }
   ],
   "source": [
    "import sys\n",
    "sys.path.append('../src')\n",
    "\n",
    "from understat_scraper import UnderstatScraperOrchestrator\n",
    "\n",
    "scraper = UnderstatScraperOrchestrator()\n",
    "\n",
    "scraper.scrape_all_to_csv()\n"
   ]
  },
  {
   "cell_type": "code",
   "execution_count": null,
   "metadata": {},
   "outputs": [],
   "source": []
  }
 ],
 "metadata": {
  "kernelspec": {
   "display_name": ".venv",
   "language": "python",
   "name": "python3"
  },
  "language_info": {
   "codemirror_mode": {
    "name": "ipython",
    "version": 3
   },
   "file_extension": ".py",
   "mimetype": "text/x-python",
   "name": "python",
   "nbconvert_exporter": "python",
   "pygments_lexer": "ipython3",
   "version": "3.12.1"
  }
 },
 "nbformat": 4,
 "nbformat_minor": 4
}
