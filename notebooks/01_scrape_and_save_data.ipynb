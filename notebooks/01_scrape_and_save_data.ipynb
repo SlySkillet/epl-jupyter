{
 "cells": [
  {
   "cell_type": "code",
   "execution_count": 13,
   "metadata": {},
   "outputs": [
    {
     "name": "stdout",
     "output_type": "stream",
     "text": [
      "scraper is locating element... check\n",
      "element located:  <selenium.webdriver.remote.webelement.WebElement (session=\"2a8798567660d90bfb63c0006d64be9a\", element=\"f.E5A2436D2D5C49E77B6B6D8363DE4A78.d.D13C3E880C756E50A3A1E363F3C0123D.e.33\")>\n",
      "element html:  <input id=\"home-away2\" type=\"radio\" name=\"home-away\" value=\"h\">\n",
      "clicked the button\n",
      "checking table update...\n",
      "confirmed table updated successfully\n",
      "found table\n",
      "closing driver...\n",
      "driver closed\n"
     ]
    }
   ],
   "source": [
    "import sys\n",
    "sys.path.append('../src')\n",
    "\n",
    "from understat_scraper import UnderstatScraper\n",
    "\n",
    "scraper = UnderstatScraper()\n",
    "scraper.load_page()\n",
    "scraper.click_element(\"home-away2\")\n",
    "home_df_raw = scraper.scrape_table()\n",
    "home_df_raw.to_csv('../data/raw/home_table_raw.csv', index=False)\n",
    "scraper.close()\n"
   ]
  },
  {
   "cell_type": "code",
   "execution_count": 15,
   "metadata": {},
   "outputs": [
    {
     "name": "stdout",
     "output_type": "stream",
     "text": [
      "     №                     Team  M  W  D  L   G  GA  PTS          xG  \\\n",
      "0    1                Brentford  8  7  1  0  26  14   22  19.38-6.62   \n",
      "1    2                Liverpool  7  6  0  1  13   3   18  16.74+3.74   \n",
      "2    3                  Arsenal  7  5  2  0  17   6   17  19.07+2.07   \n",
      "3    4          Manchester City  7  5  1  1  15  10   16  17.28+2.28   \n",
      "4    5              Aston Villa  8  4  3  1  13   9   15  18.13+5.13   \n",
      "5    6                   Fulham  8  4  2  2  14  13   14  13.66-0.34   \n",
      "6    7                Tottenham  8  4  1  3  20  11   13  16.85-3.15   \n",
      "7    8              Bournemouth  7  4  1  2  10   6   13  15.34+5.34   \n",
      "8    9                 Brighton  7  3  4  0  12   9   13  13.69+1.69   \n",
      "9   10        Manchester United  8  4  1  3  13  11   13  12.54-0.46   \n",
      "10  11                  Chelsea  7  3  3  1  12   8   12  14.78+2.78   \n",
      "11  12        Nottingham Forest  7  3  2  2   8   6   11  10.45+2.45   \n",
      "12  13         Newcastle United  7  3  2  2   8   8   11   9.18+1.18   \n",
      "13  14                 West Ham  8  3  1  4  12  16   10  15.45+3.45   \n",
      "14  15                  Everton  7  2  3  2   9   8    9   8.74-0.26   \n",
      "15  16                Leicester  8  2  3  3  11  12    9  10.06-0.94   \n",
      "16  17           Crystal Palace  8  1  4  3   6  10    7  12.99+6.99   \n",
      "17  18                  Ipswich  8  0  4  4   6  12    4   9.43+3.43   \n",
      "18  19  Wolverhampton Wanderers  7  1  1  5  11  18    4   8.83-2.17   \n",
      "19  20              Southampton  7  1  1  5   7  16    4  10.89+3.89   \n",
      "\n",
      "           xGA        xPTS  \n",
      "0   11.38-2.62  14.88-7.12  \n",
      "1    7.28+4.28  15.69-2.31  \n",
      "2    6.02+0.02  15.94-1.06  \n",
      "3   10.05+0.05  13.78-2.22  \n",
      "4    6.70-2.30  18.25+3.25  \n",
      "5    9.68-3.32  13.41-0.59  \n",
      "6   12.34+1.34  13.11+0.11  \n",
      "7    8.47+2.47  14.28+1.28  \n",
      "8    9.12+0.12  13.09+0.09  \n",
      "9   11.87+0.87  14.02+1.02  \n",
      "10   9.09+1.09  12.89+0.89  \n",
      "11   7.58+1.58  11.48+0.48  \n",
      "12  10.61+2.61   8.66-2.34  \n",
      "13  18.41+2.41   9.53-0.47  \n",
      "14  11.35+3.35   7.49-1.51  \n",
      "15  16.71+4.71   6.56-2.44  \n",
      "16  12.49+2.49  11.19+4.19  \n",
      "17  16.62+4.62   7.30+3.30  \n",
      "18  13.52-4.48   6.59+2.59  \n",
      "19  21.18+5.18   4.62+0.62  \n"
     ]
    }
   ],
   "source": [
    "import pandas as pd\n",
    "\n",
    "home_df = pd.read_csv('../data/raw/home_table_raw.csv')\n",
    "print(home_df)"
   ]
  },
  {
   "cell_type": "code",
   "execution_count": null,
   "metadata": {},
   "outputs": [],
   "source": []
  }
 ],
 "metadata": {
  "kernelspec": {
   "display_name": ".venv",
   "language": "python",
   "name": "python3"
  },
  "language_info": {
   "codemirror_mode": {
    "name": "ipython",
    "version": 3
   },
   "file_extension": ".py",
   "mimetype": "text/x-python",
   "name": "python",
   "nbconvert_exporter": "python",
   "pygments_lexer": "ipython3",
   "version": "3.12.1"
  }
 },
 "nbformat": 4,
 "nbformat_minor": 2
}
