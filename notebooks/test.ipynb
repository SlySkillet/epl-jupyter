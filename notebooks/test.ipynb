{
 "cells": [
  {
   "cell_type": "code",
   "execution_count": 2,
   "metadata": {},
   "outputs": [
    {
     "name": "stdout",
     "output_type": "stream",
     "text": [
      "     №                     Team  M   G  GA\n",
      "0    1                  Chelsea  8  23  10\n",
      "1    2                Liverpool  7  16   8\n",
      "2    3        Nottingham Forest  8  11  12\n",
      "3    4                  Arsenal  8  12   9\n",
      "4    5          Manchester City  8  12  11\n",
      "5    6                 Brighton  8  13  13\n",
      "6    7              Bournemouth  8  13  14\n",
      "7    8                Tottenham  8  16   8\n",
      "8    9                   Fulham  8  10   9\n",
      "9   10              Aston Villa  8  11  16\n",
      "10  11           Crystal Palace  8  11  11\n",
      "11  12        Manchester United  8   8   8\n",
      "12  13         Newcastle United  8  11  13\n",
      "13  14                 West Ham  8   9  13\n",
      "14  15                  Ipswich  8  10  16\n",
      "15  16                  Everton  8   5  13\n",
      "16  17  Wolverhampton Wanderers  8  12  20\n",
      "17  18                Leicester  8  10  22\n",
      "18  19                Brentford  8   6  16\n",
      "19  20              Southampton  8   4  15\n"
     ]
    }
   ],
   "source": [
    "import sys\n",
    "sys.path.append('../src')\n",
    "\n",
    "from process_data import ProcessData\n",
    "\n",
    "data = ProcessData(\n",
    "    home_table_raw_path = '../data/raw/home_table_raw.csv',\n",
    "    away_table_raw_path = '../data/raw/away_table_raw.csv'\n",
    ")\n",
    "print(data.away_df)\n"
   ]
  },
  {
   "cell_type": "code",
   "execution_count": null,
   "metadata": {},
   "outputs": [],
   "source": []
  }
 ],
 "metadata": {
  "kernelspec": {
   "display_name": ".venv",
   "language": "python",
   "name": "python3"
  },
  "language_info": {
   "codemirror_mode": {
    "name": "ipython",
    "version": 3
   },
   "file_extension": ".py",
   "mimetype": "text/x-python",
   "name": "python",
   "nbconvert_exporter": "python",
   "pygments_lexer": "ipython3",
   "version": "3.12.1"
  }
 },
 "nbformat": 4,
 "nbformat_minor": 2
}
