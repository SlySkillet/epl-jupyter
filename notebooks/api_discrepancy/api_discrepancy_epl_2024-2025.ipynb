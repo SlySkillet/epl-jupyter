{
 "cells": [
  {
   "cell_type": "markdown",
   "metadata": {},
   "source": [
    "### Quick notebook to find all the discrepencies in naming between UnderStat and OddsApi for the English Premier League 2024-25 season"
   ]
  },
  {
   "cell_type": "code",
   "execution_count": 1,
   "metadata": {},
   "outputs": [
    {
     "name": "stdout",
     "output_type": "stream",
     "text": [
      "['Arsenal', 'Everton', 'Liverpool', 'Fulham', 'Wolverhampton Wanderers', 'Ipswich Town', 'Newcastle United', 'Leicester City', 'Nottingham Forest', 'Aston Villa', 'Manchester City', 'Manchester United', 'Chelsea', 'Brentford', 'Southampton', 'Tottenham Hotspur', 'Bournemouth', 'West Ham United']\n"
     ]
    }
   ],
   "source": [
    "import pandas as pd\n",
    "import json\n",
    "oddsApi_clubs = []\n",
    "csv1 = pd.read_csv('../../data/processed/odds/odds_matchday_2024-12-14.csv')\n",
    "csv2 = pd.read_csv('../../data/processed/odds/odds_matchday_2024-12-15.csv')\n",
    "csv3 = pd.read_csv('../../data/processed/odds/odds_matchday_2024-12-16.csv')\n",
    "\n",
    "def extend(input, to_list):\n",
    "    for m in input:\n",
    "        lst = m.split(' v. ')\n",
    "        to_list.extend(lst)\n",
    "\n",
    "extend(csv1[\"match\"], oddsApi_clubs)\n",
    "extend(csv2[\"match\"], oddsApi_clubs)\n",
    "extend(csv3[\"match\"], oddsApi_clubs)\n",
    "\n",
    "print(oddsApi_clubs)"
   ]
  },
  {
   "cell_type": "code",
   "execution_count": 3,
   "metadata": {},
   "outputs": [
    {
     "name": "stdout",
     "output_type": "stream",
     "text": [
      "['Arsenal', 'Aston Villa', 'Bournemouth', 'Brentford', 'Brighton and Hove Albion', 'Chelsea', 'Crystal Palace', 'Everton', 'Fulham', 'Ipswich Town', 'Leicester City', 'Liverpool', 'Manchester City', 'Manchester United', 'Newcastle United', 'Nottingham Forest', 'Southampton', 'Tottenham Hotspur', 'West Ham United', 'Wolverhampton Wanderers']\n"
     ]
    }
   ],
   "source": [
    "\"\"\"\n",
    "I discovered I was missing Brighton and Crystal Palace in my csv because of the time of day that I ran it (OddsApi free tier doesn't retrieve past odds, only upcoming).\n",
    "\n",
    "The following is logic to correct\n",
    "\"\"\"\n",
    "# read a csv for a future matchday to retrieve the missing club names\n",
    "csv4 = pd.read_csv('../../data/processed/odds/odds_matchday_2024-12-21.csv')\n",
    "\n",
    "extend(csv4[\"match\"], oddsApi_clubs)\n",
    "\n",
    "oddsApi_clubs = list(set(oddsApi_clubs)) # remove duplicates\n",
    "oddsApi_clubs.sort()\n",
    "print(oddsApi_clubs)"
   ]
  },
  {
   "cell_type": "code",
   "execution_count": 5,
   "metadata": {},
   "outputs": [
    {
     "name": "stdout",
     "output_type": "stream",
     "text": [
      "{\n",
      "  \"Brighton\": \"Brighton and Hove Albion\",\n",
      "  \"Ipswich\": \"Ipswich Town\",\n",
      "  \"Leicester\": \"Leicester City\",\n",
      "  \"Tottenham\": \"Tottenham Hotspur\",\n",
      "  \"West Ham\": \"West Ham United\"\n",
      "}\n"
     ]
    }
   ],
   "source": [
    "underStat_clubs = []\n",
    "\n",
    "csv5 = pd.read_csv('../../data/processed/away_table.csv')\n",
    "extend(csv5[\"Team\"], underStat_clubs)\n",
    "underStat_clubs.sort()\n",
    "\n",
    "translations = {}\n",
    "for a, b in zip(underStat_clubs, oddsApi_clubs):\n",
    "    if a != b:\n",
    "        translations[a] = b\n",
    "\n",
    "print(json.dumps(translations, indent=2))\n"
   ]
  },
  {
   "cell_type": "markdown",
   "metadata": {},
   "source": [
    "### Summary:\n",
    "\n",
    "The translations dictionary is what is need for the translate function found in `notebooks/04_analysis_template.ipynb`. This logic can be used for any league to resolve compatability issues between Understat and the OddsApi"
   ]
  }
 ],
 "metadata": {
  "kernelspec": {
   "display_name": ".venv",
   "language": "python",
   "name": "python3"
  },
  "language_info": {
   "codemirror_mode": {
    "name": "ipython",
    "version": 3
   },
   "file_extension": ".py",
   "mimetype": "text/x-python",
   "name": "python",
   "nbconvert_exporter": "python",
   "pygments_lexer": "ipython3",
   "version": "3.12.1"
  }
 },
 "nbformat": 4,
 "nbformat_minor": 2
}
