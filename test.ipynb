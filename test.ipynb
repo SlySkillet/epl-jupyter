{
 "cells": [
  {
   "cell_type": "code",
   "execution_count": 5,
   "id": "7cd7c5d1-e700-487e-bd02-ea420dd2a0f8",
   "metadata": {},
   "outputs": [
    {
     "name": "stdout",
     "output_type": "stream",
     "text": [
      "    Position            Team  Played  Won  Drawn  Lost  Goals For  \\\n",
      "0          1       Liverpool       8    7      0     1         15   \n",
      "1          2        Man City       8    6      2     0         19   \n",
      "2          3         Arsenal       8    5      2     1         15   \n",
      "3          4     Aston Villa       8    5      2     1         15   \n",
      "4          5   Brighton Hove       8    4      3     1         14   \n",
      "5          6         Chelsea       8    4      2     2         17   \n",
      "6          7       Tottenham       8    4      1     3         18   \n",
      "7          8      Nottingham       8    3      4     1          8   \n",
      "8          9       Newcastle       8    3      3     2          8   \n",
      "9         10          Fulham       8    3      2     3         11   \n",
      "10        11     Bournemouth       8    3      2     3         10   \n",
      "11        12      Man United       8    3      2     3          7   \n",
      "12        13       Brentford       8    3      1     4         14   \n",
      "13        14  Leicester City       8    2      3     3         12   \n",
      "14        15        West Ham       8    2      2     4         11   \n",
      "15        16         Everton       8    2      2     4          9   \n",
      "16        17    Ipswich Town       8    0      4     4          6   \n",
      "17        18  Crystal Palace       8    0      3     5          5   \n",
      "18        19     Southampton       8    0      1     7          6   \n",
      "19        20   Wolverhampton       8    0      1     7         10   \n",
      "\n",
      "    Goals Against  Goal Difference  Points  \n",
      "0               3               12      21  \n",
      "1               9               10      20  \n",
      "2               8                7      17  \n",
      "3              10                5      17  \n",
      "4              10                4      15  \n",
      "5              10                7      14  \n",
      "6               9                9      13  \n",
      "7               6                2      13  \n",
      "8               8                0      12  \n",
      "9              11                0      11  \n",
      "10             10                0      11  \n",
      "11              9               -2      11  \n",
      "12             15               -1      10  \n",
      "13             14               -2       9  \n",
      "14             15               -4       8  \n",
      "15             15               -6       8  \n",
      "16             16              -10       4  \n",
      "17             11               -6       3  \n",
      "18             18              -12       1  \n",
      "19             23              -13       1  \n"
     ]
    }
   ],
   "source": [
    "import pandas as pd\n",
    "import requests\n",
    "\n",
    "API_KEY = 'dff583c5ba204ca3b3b07d4a8491e39c'\n",
    "url = 'https://api.football-data.org/v4/competitions/PL/standings'\n",
    "headers = {\n",
    "    'X-Auth-Token': API_KEY\n",
    "}\n",
    "\n",
    "response = requests.get(url, headers=headers)\n",
    "\n",
    "if response.status_code == 200:\n",
    "    data = response.json()\n",
    "    standings = data['standings'][0]['table']\n",
    "    standings_df = pd.DataFrame([{\n",
    "        'Position': team['position'],\n",
    "        'Team': team['team']['shortName'],\n",
    "        'Played': team['playedGames'],\n",
    "        'Won': team['won'],\n",
    "        'Drawn': team['draw'],\n",
    "        'Lost': team['lost'],\n",
    "        'Goals For': team['goalsFor'],\n",
    "        'Goals Against': team['goalsAgainst'],\n",
    "        'Goal Difference': team['goalDifference'],\n",
    "        'Points': team['points']\n",
    "    }for team in standings])\n",
    "    print(standings_df)\n",
    "else:\n",
    "    print(f\"Failed to retrieve data: {response.status_code}\")"
   ]
  },
  {
   "cell_type": "code",
   "execution_count": 9,
   "id": "ea34f911-9e0e-4825-b1f5-e1f11c799fbd",
   "metadata": {},
   "outputs": [
    {
     "name": "stdout",
     "output_type": "stream",
     "text": [
      "   Position       Team  Played  Won  Drawn  Lost  Goals For  Goals Against  \\\n",
      "0         1  Liverpool       8    7      0     1         15              3   \n",
      "1         2   Man City       8    6      2     0         19              9   \n",
      "6         7  Tottenham       8    4      1     3         18              9   \n",
      "2         3    Arsenal       8    5      2     1         15              8   \n",
      "5         6    Chelsea       8    4      2     2         17             10   \n",
      "\n",
      "   Goal Difference  Points  Goal difference per match  \n",
      "0               12      21                      1.500  \n",
      "1               10      20                      1.250  \n",
      "6                9      13                      1.125  \n",
      "2                7      17                      0.875  \n",
      "5                7      14                      0.875  \n"
     ]
    }
   ],
   "source": [
    "standings_df['Goal difference per match'] = standings_df['Goal Difference'] / standings_df['Played']\n",
    "sorted_df = standings_df.sort_values(by='Goal difference per match', ascending=False)\n",
    "print(sorted_df.head(5))"
   ]
  },
  {
   "cell_type": "code",
   "execution_count": null,
   "id": "b2632c79-5b80-4d58-84a1-f057140a1e15",
   "metadata": {},
   "outputs": [],
   "source": []
  }
 ],
 "metadata": {
  "kernelspec": {
   "display_name": ".venv",
   "language": "python",
   "name": "python3"
  },
  "language_info": {
   "codemirror_mode": {
    "name": "ipython",
    "version": 3
   },
   "file_extension": ".py",
   "mimetype": "text/x-python",
   "name": "python",
   "nbconvert_exporter": "python",
   "pygments_lexer": "ipython3",
   "version": "3.12.1"
  }
 },
 "nbformat": 4,
 "nbformat_minor": 5
}
