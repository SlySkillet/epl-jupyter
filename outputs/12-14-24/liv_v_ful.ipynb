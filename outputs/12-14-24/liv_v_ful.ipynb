{
 "cells": [
  {
   "cell_type": "markdown",
   "metadata": {},
   "source": [
    "# ANAYLSIS TEMPLATE\n",
    "*This notebook intends to walk through the theory and calculations I am currently using in my model to calculate probability of 1 x 2 result and a table of over / under goal projections. I will break the calculations out into utility functions stored in `../src/utils` for ease of use in future explorations. This is to document the calculations.*\n",
    "\n",
    "### Instructions:\n",
    "\n",
    "1. Ensure all cells in all notebooks in `/notebooks` directory have been run.\n",
    "2. Define `home_side` and `away_side` in first cell\n",
    "3. Click 'run all'\n",
    "4. Probability for 1 x 2 and over / under can be viewed in the last cell\n",
    "5. *Suggestion:* copy and paste notebook to `../output/< matchday_directory >/` and rename file. IMPORTANT: Update file path in lines 14 and 15 if needed if you make a copy.\n",
    "\n"
   ]
  },
  {
   "cell_type": "markdown",
   "metadata": {},
   "source": [
    "### Import League Data & Define Sides\n",
    "\n",
    "Define 'home_side' and 'away_side'\n",
    "Ensure correct output\n",
    "\n"
   ]
  },
  {
   "cell_type": "code",
   "execution_count": 15,
   "metadata": {},
   "outputs": [
    {
     "name": "stdout",
     "output_type": "stream",
     "text": [
      "Ready to calculate probability for Wolverhampton Wanderers v. Ipswich\n"
     ]
    }
   ],
   "source": [
    "import pandas as pd\n",
    "from scipy.stats import poisson\n",
    "import numpy as np\n",
    "\n",
    "\"\"\"\n",
    "BUG: if copying from `notebooks/03_analysis_template_notebook.ipynb` to a directory in output\n",
    "for storage, ensure the file path for reading the csv will need to be updated from '../data/processed/home_table.csv'\n",
    "to '../../data/processed/home_table.csv' if frames are run again.\n",
    "\n",
    "TLDR\n",
    "if you are in ./notebooks/03_analysis_tempalte.csv you may run this cell as is. If you are not, check that following\n",
    "read_csv commands read from the correct directory.\n",
    "\"\"\"\n",
    "home_dataframe = pd.read_csv('../data/processed/home_table.csv')\n",
    "away_dataframe = pd.read_csv('../data/processed/away_table.csv')\n",
    "\n",
    "\"\"\"\n",
    "\n",
    "!!! INPUT TEAMS HERE !!!\n",
    "\n",
    "wrapped in quotes, eg.\n",
    "\n",
    "home_side = \"Arsenal\"\n",
    "away_side = \"Everton\"\n",
    "\n",
    "If there is a ValueError,\n",
    "(1) check spelling against the error message. Must be exact.\n",
    "(2) check capitalization\n",
    "(3) check that it is wrapped in quotes\n",
    "\n",
    "\"\"\"\n",
    "home_side = \"Wolverhampton Wanderers\"\n",
    "away_side = \"Ipswich\"\n",
    "matchday = \"2024-12-14\"\n",
    "\n",
    "# validate input\n",
    "clubs = set(home_dataframe['Team'].values)\n",
    "if home_side not in clubs:\n",
    "    raise ValueError(f\"Invalid entry for 'home_side'. Expected one of {clubs}, but received '{home_side}'\")\n",
    "elif away_side not in clubs:\n",
    "    raise ValueError(f\"Invalid entry for 'away_side'. Expected one of {clubs}, but received '{away_side}'\")\n",
    "else:\n",
    "    print(f\"Ready to calculate probability for {home_side} v. {away_side}\")"
   ]
  },
  {
   "cell_type": "markdown",
   "metadata": {},
   "source": [
    "### Calculate Projected Goals"
   ]
  },
  {
   "cell_type": "code",
   "execution_count": 16,
   "metadata": {},
   "outputs": [
    {
     "name": "stdout",
     "output_type": "stream",
     "text": [
      "1.5714285714285714 2.571428571428572\n",
      "1.1428571428571428 2.142857142857143\n",
      "1.63 1.38\n",
      "0.9640666082383874 1.3146362839614374 0.8281573498964804 1.8633540372670814\n",
      "\n",
      " ================== projected_goals ==================== \n",
      "\n",
      "HOME Wolverhampton Wanderers projected goals: 2.0658570176536872\n",
      "AWAY Ipswich projected goals:  2.1295474711623785\n"
     ]
    }
   ],
   "source": [
    "# 2. grab their gpm_scored and gpm_conceded\n",
    "home_side_gpm_scored = home_dataframe.loc[\n",
    "    home_dataframe[\"Team\"] == home_side,\n",
    "    \"gpm_scored\"\n",
    "].values[0]\n",
    "\n",
    "home_side_gpm_conceded = home_dataframe.loc[\n",
    "    home_dataframe[\"Team\"] == home_side,\n",
    "    \"gpm_conceded\"\n",
    "].values[0]\n",
    "\n",
    "print(home_side_gpm_scored, home_side_gpm_conceded)\n",
    "\n",
    "away_side_gpm_scored = away_dataframe.loc[\n",
    "    away_dataframe[\"Team\"] == away_side,\n",
    "    \"gpm_scored\"\n",
    "].values[0]\n",
    "\n",
    "away_side_gpm_conceded = away_dataframe.loc[\n",
    "    away_dataframe[\"Team\"] == away_side,\n",
    "    \"gpm_conceded\"\n",
    "].values[0]\n",
    "\n",
    "print(away_side_gpm_scored, away_side_gpm_conceded)\n",
    "\n",
    "# 3.\n",
    "epl_home_avg_gpm_scored = round(sum(home_dataframe[\"gpm_scored\"].values) / 20, 2)\n",
    "epl_home_avg_gpm_conceded = round(sum(home_dataframe[\"gpm_conceded\"].values) / 20, 2)\n",
    "print(epl_home_avg_gpm_scored, epl_home_avg_gpm_conceded)\n",
    "\n",
    "# 4. create a ratio (attack and defense rating) of their gpm to the league average gpm\n",
    "home_attack_rating = home_side_gpm_scored / epl_home_avg_gpm_scored\n",
    "away_defense_rating = away_side_gpm_conceded / epl_home_avg_gpm_scored\n",
    "away_attack_rating = away_side_gpm_scored / epl_home_avg_gpm_conceded\n",
    "home_defense_rating = home_side_gpm_conceded / epl_home_avg_gpm_conceded\n",
    "\n",
    "print(home_attack_rating, away_defense_rating, away_attack_rating, home_defense_rating)\n",
    "\n",
    "# home projected goals\n",
    "home_projected_goals = home_attack_rating * away_defense_rating * epl_home_avg_gpm_scored\n",
    "# away projected goals\n",
    "away_projected_goals = away_attack_rating * home_defense_rating * epl_home_avg_gpm_conceded\n",
    "print(\"\\n ================== projected_goals ==================== \\n\")\n",
    "print(f\"HOME {home_side} projected goals:\", home_projected_goals)\n",
    "print(f\"AWAY {away_side} projected goals: \", away_projected_goals)"
   ]
  },
  {
   "cell_type": "markdown",
   "metadata": {},
   "source": [
    "### Poisson Distribution of Goal Probabilities"
   ]
  },
  {
   "cell_type": "code",
   "execution_count": 17,
   "metadata": {},
   "outputs": [
    {
     "name": "stdout",
     "output_type": "stream",
     "text": [
      "Wolverhampton Wanderers v. Ipswich [[1.50646477e-02 3.11214083e-02 3.21461898e-02 2.21364773e-02\n",
      "  1.14326992e-02 4.72366439e-03 1.62640254e-03 4.79987871e-04\n",
      "  1.23948289e-04]\n",
      " [3.20808825e-02 6.62745163e-02 6.84568373e-02 4.71406792e-02\n",
      "  2.43464758e-02 1.00592676e-02 3.46350141e-03 1.02215696e-03\n",
      "  2.63953765e-04]\n",
      " [3.41588811e-02 7.05673643e-02 7.28910423e-02 5.01941571e-02\n",
      "  2.59234879e-02 1.07108439e-02 3.68784534e-03 1.08836588e-03\n",
      "  2.81051037e-04]\n",
      " [2.42476530e-02 5.00921840e-02 5.17416450e-02 3.56302801e-02\n",
      "  1.84017661e-02 7.60308351e-03 2.61781390e-03 7.72575603e-04\n",
      "  1.99503842e-04]\n",
      " [1.29091320e-02 2.66684210e-02 2.75465723e-02 1.89690932e-02\n",
      "  9.79685859e-03 4.04778182e-03 1.39368974e-03 4.11309106e-04\n",
      "  1.06213225e-04]\n",
      " [5.49812189e-03 1.13583337e-02 1.17323467e-02 8.07911690e-03\n",
      "  4.17257509e-03 1.72398871e-03 5.93585694e-04 1.75180453e-04\n",
      "  4.52372211e-05]\n",
      " [1.95141859e-03 4.03135180e-03 4.16409820e-03 2.86747716e-03\n",
      "  1.48094945e-03 6.11885965e-04 2.10678152e-04 6.21758485e-05\n",
      "  1.60558016e-05]\n",
      " [5.93662647e-04 1.22642215e-03 1.26680640e-03 8.72346963e-04\n",
      "  4.50536024e-04 1.86148601e-04 6.40927324e-05 1.89152030e-05\n",
      "  4.88451311e-06]\n",
      " [1.58029099e-04 3.26465522e-04 3.37215545e-04 2.32213034e-04\n",
      "  1.19929731e-04 4.95515354e-05 1.70610645e-05 5.03510284e-06\n",
      "  1.30022532e-06]]\n"
     ]
    }
   ],
   "source": [
    "# Poisson probability for home team goals 0 - 8\n",
    "home_score_prob = []\n",
    "away_score_prob = []\n",
    "for i in range(9):\n",
    "    prob = poisson.pmf(i, home_projected_goals)\n",
    "    home_score_prob.append(prob)\n",
    "for i in range(9):\n",
    "    prob = poisson.pmf(i, away_projected_goals)\n",
    "    away_score_prob.append(prob)\n",
    "\n",
    "home_score_prob = np.array(home_score_prob)\n",
    "away_score_prob = np.array(away_score_prob)\n",
    "# print(home_score_prob)\n",
    "# print(away_score_prob)\n",
    "\n",
    "exact_score_prob = np.outer(away_score_prob, home_score_prob)\n",
    "print(f\"{home_side} v. {away_side}\", exact_score_prob)"
   ]
  },
  {
   "cell_type": "markdown",
   "metadata": {},
   "source": [
    "### Under Market"
   ]
  },
  {
   "cell_type": "code",
   "execution_count": 18,
   "metadata": {},
   "outputs": [
    {
     "name": "stdout",
     "output_type": "stream",
     "text": [
      "~  ~ under market ~  ~\n",
      " Wolverhampton Wanderers v. Ipswich\n",
      "    Goals      Prob  Implied Odds\n",
      "0    0.5  0.015065     66.380576\n",
      "1    1.5  0.078267     12.776787\n",
      "2    2.5  0.210847      4.742786\n",
      "3    3.5  0.396255      2.523628\n"
     ]
    }
   ],
   "source": [
    "thresholds = [0.5, 1.5, 2.5, 3.5]\n",
    "sums = []\n",
    "\n",
    "for t in thresholds:\n",
    "    mask = np.add.outer(\n",
    "        np.arange(\n",
    "            exact_score_prob.shape[0]\n",
    "        ),\n",
    "        np.arange(\n",
    "            exact_score_prob.shape[1]\n",
    "        )\n",
    "    ) <= t\n",
    "    # print(mask)\n",
    "    sums.append(exact_score_prob[mask].sum())\n",
    "\n",
    "# print(sums)\n",
    "under_market_df = pd.DataFrame({\n",
    "    \"Goals\": thresholds,\n",
    "    \"Prob\": sums\n",
    "})\n",
    "under_market_df[\"Implied Odds\"] = 1 / under_market_df[\"Prob\"]\n",
    "print(\"~  ~ under market ~  ~\\n\", f\"{home_side} v. {away_side}\\n\", under_market_df)"
   ]
  },
  {
   "cell_type": "code",
   "execution_count": 19,
   "metadata": {},
   "outputs": [
    {
     "name": "stdout",
     "output_type": "stream",
     "text": [
      "~  ~ over market ~  ~\n",
      " Wolverhampton Wanderers v. Ipswich\n",
      "    Goals      Prob  Implied Odds\n",
      "0    0.5  0.984263      1.015989\n",
      "1    1.5  0.921061      1.085705\n",
      "2    2.5  0.788481      1.268261\n",
      "3    3.5  0.603073      1.658175\n"
     ]
    }
   ],
   "source": [
    "thresholds = [0.5, 1.5, 2.5, 3.5]\n",
    "sums = []\n",
    "\n",
    "for t in thresholds:\n",
    "    mask = np.add.outer(\n",
    "        np.arange(\n",
    "            exact_score_prob.shape[0]\n",
    "        ),\n",
    "        np.arange(\n",
    "            exact_score_prob.shape[1]\n",
    "        )\n",
    "    ) >= t\n",
    "    sums.append(exact_score_prob[mask].sum())\n",
    "\n",
    "# print(sums)\n",
    "over_market_df = pd.DataFrame({\n",
    "    \"Goals\": thresholds,\n",
    "    \"Prob\": sums\n",
    "})\n",
    "\n",
    "over_market_df[\"Implied Odds\"] = 1 / over_market_df[\"Prob\"]\n",
    "print(\"~  ~ over market ~  ~\\n\", f\"{home_side} v. {away_side}\\n\", over_market_df)"
   ]
  },
  {
   "cell_type": "markdown",
   "metadata": {},
   "source": [
    "### 1 x 2 Probability"
   ]
  },
  {
   "cell_type": "code",
   "execution_count": 20,
   "metadata": {},
   "outputs": [
    {
     "name": "stdout",
     "output_type": "stream",
     "text": [
      "      ~  ~ moneyline market ~  ~\n",
      "                         winner      prob  implied_odds\n",
      "0  Wolverhampton Wanderers (1)  0.386880      2.584779\n",
      "1                     Draw (x)  0.201612      4.960017\n",
      "2                  Ipswich (2)  0.410835      2.434067\n"
     ]
    }
   ],
   "source": [
    "# Poisson probability for home team goals 0 - 8\n",
    "home_score_prob = []\n",
    "away_score_prob = []\n",
    "for i in range(9):\n",
    "    prob = poisson.pmf(i, home_projected_goals)\n",
    "    home_score_prob.append(prob)\n",
    "for i in range(9):\n",
    "    prob = poisson.pmf(i, away_projected_goals)\n",
    "    away_score_prob.append(prob)\n",
    "\n",
    "home_score_prob = np.array(home_score_prob)\n",
    "away_score_prob = np.array(away_score_prob)\n",
    "# print(home_score_prob)\n",
    "# print(away_score_prob)\n",
    "\n",
    "exact_score_prob = np.outer(away_score_prob, home_score_prob)\n",
    "\n",
    "# print(exact_score_prob)\n",
    "home_win_prob = np.sum(np.triu(exact_score_prob, k=1))\n",
    "away_win_prob = np.sum(np.tril(exact_score_prob, k=-1))\n",
    "draw_prob = np.trace(exact_score_prob)\n",
    "\n",
    "# prepare data in readable dataframe\n",
    "data = {\n",
    "    \"winner\": [f\"{home_side} (1)\", \"Draw (x)\", f\"{away_side} (2)\"],\n",
    "    \"prob\": [home_win_prob, draw_prob, away_win_prob],\n",
    "}\n",
    "result_df = pd.DataFrame(data)\n",
    "result_df['implied_odds'] = 1 / result_df['prob']\n",
    "print(\"      ~  ~ moneyline market ~  ~\\n\", result_df)"
   ]
  },
  {
   "cell_type": "markdown",
   "metadata": {},
   "source": [
    "# Full Results Summary:"
   ]
  },
  {
   "cell_type": "code",
   "execution_count": null,
   "metadata": {},
   "outputs": [
    {
     "name": "stdout",
     "output_type": "stream",
     "text": [
      "CALCULATED PROBABILITIES FOR Wolverhampton Wanderers v. Ipswich Town\n",
      "\n",
      "\n",
      "        ~ ~ moneyline market ~ ~\n",
      "\n",
      "                         winner      prob  implied_odds\n",
      "0  Wolverhampton Wanderers (1)  0.386880      2.584779\n",
      "1                     Draw (x)  0.201612      4.960017\n",
      "2                  Ipswich (2)  0.410835      2.434067\n",
      "\n",
      "\n",
      "          ~ ~ over market ~ ~ \n",
      "\n",
      "    Goals      Prob  Implied Odds\n",
      "0    0.5  0.984263      1.015989\n",
      "1    1.5  0.921061      1.085705\n",
      "2    2.5  0.788481      1.268261\n",
      "3    3.5  0.603073      1.658175\n",
      "\n",
      "\n",
      "          ~ ~ under market ~ ~ \n",
      "\n",
      "    Goals      Prob  Implied Odds\n",
      "0    0.5  0.015065     66.380576\n",
      "1    1.5  0.078267     12.776787\n",
      "2    2.5  0.210847      4.742786\n",
      "3    3.5  0.396255      2.523628\n",
      "\n",
      " ~~ MyBookie Odds for Wolverhampton Wanderers v. Ipswich Town ~~\n",
      "       1    x    2  ovr_und_point  over  under\n",
      "2  1.93  3.7  3.6            2.5  1.69   2.08\n",
      "\n",
      " ~~ MyBookie Odds IMPLIED for Wolverhampton Wanderers v. Ipswich Town ~~\n",
      "           1        x         2  point      over     under\n",
      "2  0.518135  0.27027  0.277778    2.5  0.591716  0.480769\n"
     ]
    }
   ],
   "source": [
    "# helper function to translate discrepency between Understat and Odds-Api naming\n",
    "def translate(string):\n",
    "    if string == \"Ipswich\":\n",
    "        return \"Ipswich Town\"\n",
    "    else:\n",
    "        return string\n",
    "\n",
    "home_side, away_side = translate(home_side), translate(away_side)\n",
    "\n",
    "match_string = f\"{home_side} v. {away_side}\"\n",
    "\n",
    "print(f\"CALCULATED PROBABILITIES FOR {home_side} v. {away_side}\")\n",
    "print(\"\\n\\n        ~ ~ moneyline market ~ ~\\n\\n\", result_df)\n",
    "print(\"\\n\\n          ~ ~ over market ~ ~ \\n\\n\", over_market_df)\n",
    "print(\"\\n\\n          ~ ~ under market ~ ~ \\n\\n\", under_market_df)\n",
    "\n",
    "odds_df = pd.read_csv(f\"../data/processed/odds/odds_matchday_{matchday}.csv\")\n",
    "filtered_odds = odds_df.loc[odds_df[\"match\"] == match_string]\n",
    "implied = {\n",
    "    \"1\": 1 / filtered_odds[\"1\"],\n",
    "    \"x\": 1 / filtered_odds[\"x\"],\n",
    "    \"2\": 1 / filtered_odds[\"2\"],\n",
    "    \"point\": filtered_odds[\"ovr_und_point\"],\n",
    "    \"over\": 1 / filtered_odds[\"over\"],\n",
    "    \"under\": 1 / filtered_odds[\"under\"]\n",
    "}\n",
    "implied_odds_df = pd.DataFrame(implied)\n",
    "\n",
    "print(f\"\\n ~~ MyBookie Odds for {match_string} ~~\\n\",filtered_odds.drop(columns=[\"match\"]))\n",
    "print(f\"\\n ~~ MyBookie Odds IMPLIED for {match_string} ~~\\n\", implied_odds_df)"
   ]
  },
  {
   "cell_type": "markdown",
   "metadata": {},
   "source": [
    "# Conclusion and Pick\n",
    "\n",
    "SAFE PICK: Our model suggests that 'Over 2.5' is undervalued. My Bookie odds of 1.69 implies a 59% chance of hitting, where we calculate a 78% chance.\n",
    "\n",
    "RISKIER PICK: Moneyline is almost always more risky because we're betting on 3 outcomes instead of 2. Our model suggests that Ipswich is slightly more likely to win that Wolves at 41% to 38%. MyBookie's odds consider an Ipswich win to have a 27% chance of hitting. So we consider an Ipswich win to be the value pick *if we decide this game is winnable for Ipswich...*\n",
    "\n",
    "### My Pick:\n",
    "\n",
    "**O 2.5 @ 1.69**"
   ]
  },
  {
   "cell_type": "markdown",
   "metadata": {},
   "source": []
  }
 ],
 "metadata": {
  "kernelspec": {
   "display_name": ".venv",
   "language": "python",
   "name": "python3"
  },
  "language_info": {
   "codemirror_mode": {
    "name": "ipython",
    "version": 3
   },
   "file_extension": ".py",
   "mimetype": "text/x-python",
   "name": "python",
   "nbconvert_exporter": "python",
   "pygments_lexer": "ipython3",
   "version": "3.12.1"
  }
 },
 "nbformat": 4,
 "nbformat_minor": 2
}
