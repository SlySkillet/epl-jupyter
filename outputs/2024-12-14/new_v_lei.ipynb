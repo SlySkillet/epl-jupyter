{
 "cells": [
  {
   "cell_type": "markdown",
   "metadata": {},
   "source": [
    "# NEWCASTLE v. LEICESTER - match analysis\n",
    "*This notebook intends to walk through the theory and calculations I am currently using in my model to calculate probability of 1 x 2 result and a table of over / under goal projections. I will break the calculations out into utility functions stored in `../src/utils` for ease of use in future explorations. This is to document the calculations.*\n",
    "\n",
    "### Instructions:\n",
    "\n",
    "1. Ensure all cells in all notebooks in `/notebooks` directory have been run.\n",
    "2. Define `home_side` and `away_side` in first cell\n",
    "3. Click 'run all'\n",
    "4. Probability for 1 x 2 and over / under can be viewed in the last cell\n",
    "5. *Suggestion:* copy and paste notebook to `../output/< matchday_directory >/` and rename file. IMPORTANT: Update file path in lines 14 and 15 if needed if you make a copy.\n",
    "\n"
   ]
  },
  {
   "cell_type": "markdown",
   "metadata": {},
   "source": [
    "### Import League Data & Define Sides\n",
    "\n",
    "Define 'home_side' and 'away_side'\n",
    "Ensure correct output\n",
    "\n"
   ]
  },
  {
   "cell_type": "code",
   "execution_count": 41,
   "metadata": {},
   "outputs": [
    {
     "name": "stdout",
     "output_type": "stream",
     "text": [
      "Ready to calculate probability for Newcastle United v. Leicester\n"
     ]
    }
   ],
   "source": [
    "import pandas as pd\n",
    "from scipy.stats import poisson\n",
    "import numpy as np\n",
    "\n",
    "\"\"\"\n",
    "BUG: if copying from `notebooks/03_analysis_template_notebook.ipynb` to a directory in output\n",
    "for storage, ensure the file path for reading the csv will need to be updated from '../data/processed/home_table.csv'\n",
    "to '../../data/processed/home_table.csv' if frames are run again.\n",
    "\n",
    "TLDR\n",
    "if you are in ./notebooks/03_analysis_tempalte.csv you may run this cell as is. If you are not, check that following\n",
    "read_csv commands read from the correct directory.\n",
    "\"\"\"\n",
    "home_dataframe = pd.read_csv('../data/processed/home_table.csv')\n",
    "away_dataframe = pd.read_csv('../data/processed/away_table.csv')\n",
    "\n",
    "\"\"\"\n",
    "\n",
    "!!! INPUT TEAMS HERE !!!\n",
    "\n",
    "wrapped in quotes, eg.\n",
    "\n",
    "home_side = \"Arsenal\"\n",
    "away_side = \"Everton\"\n",
    "\n",
    "If there is a ValueError,\n",
    "(1) check spelling against the error message. Must be exact.\n",
    "(2) check capitalization\n",
    "(3) check that it is wrapped in quotes\n",
    "\n",
    "\"\"\"\n",
    "home_side = \"Newcastle United\"\n",
    "away_side = \"Leicester\"\n",
    "matchday = \"2024-12-14\"\n",
    "\n",
    "# validate input\n",
    "clubs = set(home_dataframe['Team'].values)\n",
    "if home_side not in clubs:\n",
    "    raise ValueError(f\"Invalid entry for 'home_side'. Expected one of {clubs}, but received '{home_side}'\")\n",
    "elif away_side not in clubs:\n",
    "    raise ValueError(f\"Invalid entry for 'away_side'. Expected one of {clubs}, but received '{away_side}'\")\n",
    "else:\n",
    "    print(f\"Ready to calculate probability for {home_side} v. {away_side}\")"
   ]
  },
  {
   "cell_type": "markdown",
   "metadata": {},
   "source": [
    "### Calculate Projected Goals"
   ]
  },
  {
   "cell_type": "code",
   "execution_count": 42,
   "metadata": {},
   "outputs": [
    {
     "name": "stdout",
     "output_type": "stream",
     "text": [
      "1.1428571428571428 1.1428571428571428\n",
      "1.4285714285714286 2.571428571428572\n",
      "1.63 1.38\n",
      "0.7011393514461 1.5775635407537254 1.0351966873706004 0.8281573498964804\n",
      "\n",
      " ================== projected_goals ==================== \n",
      "\n",
      "HOME Newcastle United projected goals: 1.8029297608614003\n",
      "AWAY Leicester projected goals:  1.1830819284235434\n"
     ]
    }
   ],
   "source": [
    "# 2. grab their gpm_scored and gpm_conceded\n",
    "home_side_gpm_scored = home_dataframe.loc[\n",
    "    home_dataframe[\"Team\"] == home_side,\n",
    "    \"gpm_scored\"\n",
    "].values[0]\n",
    "\n",
    "home_side_gpm_conceded = home_dataframe.loc[\n",
    "    home_dataframe[\"Team\"] == home_side,\n",
    "    \"gpm_conceded\"\n",
    "].values[0]\n",
    "\n",
    "print(home_side_gpm_scored, home_side_gpm_conceded)\n",
    "\n",
    "away_side_gpm_scored = away_dataframe.loc[\n",
    "    away_dataframe[\"Team\"] == away_side,\n",
    "    \"gpm_scored\"\n",
    "].values[0]\n",
    "\n",
    "away_side_gpm_conceded = away_dataframe.loc[\n",
    "    away_dataframe[\"Team\"] == away_side,\n",
    "    \"gpm_conceded\"\n",
    "].values[0]\n",
    "\n",
    "print(away_side_gpm_scored, away_side_gpm_conceded)\n",
    "\n",
    "# 3.\n",
    "epl_home_avg_gpm_scored = round(sum(home_dataframe[\"gpm_scored\"].values) / 20, 2)\n",
    "epl_home_avg_gpm_conceded = round(sum(home_dataframe[\"gpm_conceded\"].values) / 20, 2)\n",
    "print(epl_home_avg_gpm_scored, epl_home_avg_gpm_conceded)\n",
    "\n",
    "# 4. create a ratio (attack and defense rating) of their gpm to the league average gpm\n",
    "home_attack_rating = home_side_gpm_scored / epl_home_avg_gpm_scored\n",
    "away_defense_rating = away_side_gpm_conceded / epl_home_avg_gpm_scored\n",
    "away_attack_rating = away_side_gpm_scored / epl_home_avg_gpm_conceded\n",
    "home_defense_rating = home_side_gpm_conceded / epl_home_avg_gpm_conceded\n",
    "\n",
    "print(home_attack_rating, away_defense_rating, away_attack_rating, home_defense_rating)\n",
    "\n",
    "# home projected goals\n",
    "home_projected_goals = home_attack_rating * away_defense_rating * epl_home_avg_gpm_scored\n",
    "# away projected goals\n",
    "away_projected_goals = away_attack_rating * home_defense_rating * epl_home_avg_gpm_conceded\n",
    "print(\"\\n ================== projected_goals ==================== \\n\")\n",
    "print(f\"HOME {home_side} projected goals:\", home_projected_goals)\n",
    "print(f\"AWAY {away_side} projected goals: \", away_projected_goals)"
   ]
  },
  {
   "cell_type": "markdown",
   "metadata": {},
   "source": [
    "### Poisson Distribution of Goal Probabilities"
   ]
  },
  {
   "cell_type": "code",
   "execution_count": 43,
   "metadata": {},
   "outputs": [
    {
     "name": "stdout",
     "output_type": "stream",
     "text": [
      "Newcastle United v. Leicester [[5.04883991e-02 9.10270374e-02 8.20576774e-02 4.93147429e-02\n",
      "  2.22277544e-02 8.01501598e-03 2.40841847e-03 6.20315621e-04\n",
      "  1.39798187e-04]\n",
      " [5.97319126e-02 1.07692443e-01 9.70809552e-02 5.83433811e-02\n",
      "  2.62972545e-02 9.48242057e-03 2.84935637e-03 7.33884201e-04\n",
      "  1.65392708e-04]\n",
      " [3.53338732e-02 6.37044915e-02 5.74273618e-02 3.45124999e-02\n",
      "  1.55559033e-02 5.60924020e-03 1.68551102e-03 4.34122568e-04\n",
      "  9.78365622e-05]\n",
      " [1.39342889e-02 2.51225442e-02 2.26470913e-02 1.36103716e-02\n",
      "  6.13463603e-03 2.21206357e-03 6.64699208e-04 1.71200855e-04\n",
      "  3.85828895e-05]\n",
      " [4.12135136e-03 7.43050702e-03 6.69834112e-03 4.02554618e-03\n",
      "  1.81444425e-03 6.54263109e-04 1.96598405e-04 5.06361594e-05\n",
      "  1.14116798e-05]\n",
      " [9.75179262e-04 1.75817971e-03 1.58493727e-03 9.52510189e-04\n",
      "  4.29327242e-04 1.54809372e-04 4.65184041e-05 1.19813450e-05\n",
      "  2.70019044e-06]\n",
      " [1.92286160e-04 3.46678441e-04 3.12518439e-04 1.87816265e-04\n",
      "  8.46548835e-05 3.05253618e-05 9.17251387e-06 2.36248546e-06\n",
      "  5.32424419e-07]\n",
      " [3.24986116e-05 5.85927141e-05 5.28192740e-05 3.17431470e-05\n",
      "  1.43076661e-05 5.15914341e-06 1.55026220e-06 3.99287694e-07\n",
      "  8.99859583e-08]\n",
      " [4.80606501e-06 8.66499765e-06 7.81119107e-06 4.69434295e-06\n",
      "  2.11589265e-06 7.62961167e-07 2.29260899e-07 5.90487568e-08\n",
      "  1.33075951e-08]]\n"
     ]
    }
   ],
   "source": [
    "# Poisson probability for home team goals 0 - 8\n",
    "home_score_prob = []\n",
    "away_score_prob = []\n",
    "for i in range(9):\n",
    "    prob = poisson.pmf(i, home_projected_goals)\n",
    "    home_score_prob.append(prob)\n",
    "for i in range(9):\n",
    "    prob = poisson.pmf(i, away_projected_goals)\n",
    "    away_score_prob.append(prob)\n",
    "\n",
    "home_score_prob = np.array(home_score_prob)\n",
    "away_score_prob = np.array(away_score_prob)\n",
    "# print(home_score_prob)\n",
    "# print(away_score_prob)\n",
    "\n",
    "exact_score_prob = np.outer(away_score_prob, home_score_prob)\n",
    "print(f\"{home_side} v. {away_side}\", exact_score_prob)"
   ]
  },
  {
   "cell_type": "markdown",
   "metadata": {},
   "source": [
    "### Under Market"
   ]
  },
  {
   "cell_type": "code",
   "execution_count": 44,
   "metadata": {},
   "outputs": [
    {
     "name": "stdout",
     "output_type": "stream",
     "text": [
      "~  ~ under market ~  ~\n",
      " Newcastle United v. Leicester\n",
      "    Goals      Prob  Implied Odds\n",
      "0    0.5  0.050488     19.806530\n",
      "1    1.5  0.201247      4.969010\n",
      "2    2.5  0.426331      2.345593\n",
      "3    3.5  0.650366      1.537596\n"
     ]
    }
   ],
   "source": [
    "thresholds = [0.5, 1.5, 2.5, 3.5]\n",
    "sums = []\n",
    "\n",
    "for t in thresholds:\n",
    "    mask = np.add.outer(\n",
    "        np.arange(\n",
    "            exact_score_prob.shape[0]\n",
    "        ),\n",
    "        np.arange(\n",
    "            exact_score_prob.shape[1]\n",
    "        )\n",
    "    ) <= t\n",
    "    # print(mask)\n",
    "    sums.append(exact_score_prob[mask].sum())\n",
    "\n",
    "# print(sums)\n",
    "under_market_df = pd.DataFrame({\n",
    "    \"Goals\": thresholds,\n",
    "    \"Prob\": sums\n",
    "})\n",
    "under_market_df[\"Implied Odds\"] = 1 / under_market_df[\"Prob\"]\n",
    "print(\"~  ~ under market ~  ~\\n\", f\"{home_side} v. {away_side}\\n\", under_market_df)"
   ]
  },
  {
   "cell_type": "code",
   "execution_count": 45,
   "metadata": {},
   "outputs": [
    {
     "name": "stdout",
     "output_type": "stream",
     "text": [
      "~  ~ over market ~  ~\n",
      " Newcastle United v. Leicester\n",
      "    Goals      Prob  Implied Odds\n",
      "0    0.5  0.949396      1.053301\n",
      "1    1.5  0.798637      1.252133\n",
      "2    2.5  0.573553      1.743517\n",
      "3    3.5  0.349519      2.861077\n"
     ]
    }
   ],
   "source": [
    "thresholds = [0.5, 1.5, 2.5, 3.5]\n",
    "sums = []\n",
    "\n",
    "for t in thresholds:\n",
    "    mask = np.add.outer(\n",
    "        np.arange(\n",
    "            exact_score_prob.shape[0]\n",
    "        ),\n",
    "        np.arange(\n",
    "            exact_score_prob.shape[1]\n",
    "        )\n",
    "    ) >= t\n",
    "    sums.append(exact_score_prob[mask].sum())\n",
    "\n",
    "# print(sums)\n",
    "over_market_df = pd.DataFrame({\n",
    "    \"Goals\": thresholds,\n",
    "    \"Prob\": sums\n",
    "})\n",
    "\n",
    "over_market_df[\"Implied Odds\"] = 1 / over_market_df[\"Prob\"]\n",
    "print(\"~  ~ over market ~  ~\\n\", f\"{home_side} v. {away_side}\\n\", over_market_df)"
   ]
  },
  {
   "cell_type": "markdown",
   "metadata": {},
   "source": [
    "### 1 x 2 Probability"
   ]
  },
  {
   "cell_type": "code",
   "execution_count": 46,
   "metadata": {},
   "outputs": [
    {
     "name": "stdout",
     "output_type": "stream",
     "text": [
      "      ~  ~ moneyline market ~  ~\n",
      "                  winner      prob  implied_odds\n",
      "0  Newcastle United (1)  0.518857      1.927314\n",
      "1              Draw (x)  0.231197      4.325308\n",
      "2         Leicester (2)  0.249830      4.002716\n"
     ]
    }
   ],
   "source": [
    "# Poisson probability for home team goals 0 - 8\n",
    "home_score_prob = []\n",
    "away_score_prob = []\n",
    "for i in range(9):\n",
    "    prob = poisson.pmf(i, home_projected_goals)\n",
    "    home_score_prob.append(prob)\n",
    "for i in range(9):\n",
    "    prob = poisson.pmf(i, away_projected_goals)\n",
    "    away_score_prob.append(prob)\n",
    "\n",
    "home_score_prob = np.array(home_score_prob)\n",
    "away_score_prob = np.array(away_score_prob)\n",
    "# print(home_score_prob)\n",
    "# print(away_score_prob)\n",
    "\n",
    "exact_score_prob = np.outer(away_score_prob, home_score_prob)\n",
    "\n",
    "# print(exact_score_prob)\n",
    "home_win_prob = np.sum(np.triu(exact_score_prob, k=1))\n",
    "away_win_prob = np.sum(np.tril(exact_score_prob, k=-1))\n",
    "draw_prob = np.trace(exact_score_prob)\n",
    "\n",
    "# prepare data in readable dataframe\n",
    "data = {\n",
    "    \"winner\": [f\"{home_side} (1)\", \"Draw (x)\", f\"{away_side} (2)\"],\n",
    "    \"prob\": [home_win_prob, draw_prob, away_win_prob],\n",
    "}\n",
    "result_df = pd.DataFrame(data)\n",
    "result_df['implied_odds'] = 1 / result_df['prob']\n",
    "print(\"      ~  ~ moneyline market ~  ~\\n\", result_df)"
   ]
  },
  {
   "cell_type": "markdown",
   "metadata": {},
   "source": [
    "# Full Results Summary:"
   ]
  },
  {
   "cell_type": "code",
   "execution_count": 51,
   "metadata": {},
   "outputs": [
    {
     "name": "stdout",
     "output_type": "stream",
     "text": [
      "CALCULATED PROBABILITIES FOR Newcastle United v. Leicester City\n",
      "\n",
      "\n",
      "        ~ ~ moneyline market ~ ~\n",
      "\n",
      "                  winner      prob  implied_odds\n",
      "0  Newcastle United (1)  0.518857      1.927314\n",
      "1              Draw (x)  0.231197      4.325308\n",
      "2         Leicester (2)  0.249830      4.002716\n",
      "\n",
      "\n",
      "          ~ ~ over market ~ ~ \n",
      "\n",
      "    Goals      Prob  Implied Odds\n",
      "0    0.5  0.949396      1.053301\n",
      "1    1.5  0.798637      1.252133\n",
      "2    2.5  0.573553      1.743517\n",
      "3    3.5  0.349519      2.861077\n",
      "\n",
      "\n",
      "          ~ ~ under market ~ ~ \n",
      "\n",
      "    Goals      Prob  Implied Odds\n",
      "0    0.5  0.050488     19.806530\n",
      "1    1.5  0.201247      4.969010\n",
      "2    2.5  0.426331      2.345593\n",
      "3    3.5  0.650366      1.537596\n",
      "\n",
      " ~~ MyBookie Odds for Newcastle United v. Leicester City ~~\n",
      "       1    x    2  ovr_und_point  over  under\n",
      "3  1.29  5.7  8.3            3.5  2.06   1.71\n",
      "\n",
      " ~~ MyBookie Odds IMPLIED for Newcastle United v. Leicester City ~~\n",
      "           1         x         2  point      over     under\n",
      "3  0.775194  0.175439  0.120482    3.5  0.485437  0.584795\n"
     ]
    }
   ],
   "source": [
    "# helper function to translate discrepency between Understat and Odds-Api naming\n",
    "def translate(string):\n",
    "    translations = {\n",
    "        \"Ipswich\": \"Ipswich Town\",\n",
    "        \"Leicester\": \"Leicester City\"\n",
    "    }\n",
    "    if string in translations:\n",
    "        return translations[\"string\"]\n",
    "    return string\n",
    "\n",
    "home_side, away_side = translate(home_side), translate(away_side)\n",
    "\n",
    "match_string = f\"{home_side} v. {away_side}\"\n",
    "\n",
    "print(f\"CALCULATED PROBABILITIES FOR {home_side} v. {away_side}\")\n",
    "print(\"\\n\\n        ~ ~ moneyline market ~ ~\\n\\n\", result_df)\n",
    "print(\"\\n\\n          ~ ~ over market ~ ~ \\n\\n\", over_market_df)\n",
    "print(\"\\n\\n          ~ ~ under market ~ ~ \\n\\n\", under_market_df)\n",
    "\n",
    "odds_df = pd.read_csv(f\"../data/processed/odds/odds_matchday_{matchday}.csv\")\n",
    "filtered_odds = odds_df.loc[odds_df[\"match\"] == match_string]\n",
    "implied = {\n",
    "    \"1\": 1 / filtered_odds[\"1\"],\n",
    "    \"x\": 1 / filtered_odds[\"x\"],\n",
    "    \"2\": 1 / filtered_odds[\"2\"],\n",
    "    \"point\": filtered_odds[\"ovr_und_point\"],\n",
    "    \"over\": 1 / filtered_odds[\"over\"],\n",
    "    \"under\": 1 / filtered_odds[\"under\"]\n",
    "}\n",
    "implied_odds_df = pd.DataFrame(implied)\n",
    "\n",
    "print(f\"\\n ~~ MyBookie Odds for {match_string} ~~\\n\",filtered_odds.drop(columns=[\"match\"]))\n",
    "print(f\"\\n ~~ MyBookie Odds IMPLIED for {match_string} ~~\\n\", implied_odds_df)"
   ]
  },
  {
   "cell_type": "markdown",
   "metadata": {},
   "source": [
    "# Conclusion and Pick\n",
    "\n",
    "SAFE PICK: Leicester is playing poorly and Newcastle as the home side are highly favored by MyBookie. We Newcastle at a 51% chance of winning. I don't like the odds at 1.29 however.\n",
    "\n",
    "RISKIER PICK: I have not earned much from making Under bets historically. That's why I consider this risky. We have the under 3.5 at 65% chance of hitting, slightly higher than the MB implied at 58%. I like the odds at 1.71\n",
    "\n",
    "### My Pick:\n",
    "\n",
    "**U 3.5 @ 1.71**"
   ]
  },
  {
   "cell_type": "markdown",
   "metadata": {},
   "source": []
  }
 ],
 "metadata": {
  "kernelspec": {
   "display_name": ".venv",
   "language": "python",
   "name": "python3"
  },
  "language_info": {
   "codemirror_mode": {
    "name": "ipython",
    "version": 3
   },
   "file_extension": ".py",
   "mimetype": "text/x-python",
   "name": "python",
   "nbconvert_exporter": "python",
   "pygments_lexer": "ipython3",
   "version": "3.12.1"
  }
 },
 "nbformat": 4,
 "nbformat_minor": 2
}
