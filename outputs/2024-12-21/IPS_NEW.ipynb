{
 "cells": [
  {
   "cell_type": "markdown",
   "metadata": {},
   "source": [
    "# Ipswich v. Newcastle United - 2024-12-21 match analysis\n",
    "*This notebook intends to walk through the theory and calculations I am currently using in my model to calculate probability of 1 x 2 result and a table of over / under goal projections. I will break the calculations out into utility functions stored in `../src/utils` for ease of use in future explorations. This is to document the calculations.*\n",
    "\n",
    "### Instructions:\n",
    "\n",
    "1. Ensure all cells in all notebooks in `/notebooks` directory have been run.\n",
    "2. Define `home_side` and `away_side` in first cell. If making a comparison with odds from `03_retrieve_odds.ipynb` also enter matchday.\n",
    "3. Click 'run all'\n",
    "4. Probability for 1 x 2 and over / under can be viewed in the last cell\n",
    "5. *Suggestion:* copy and paste notebook to `../output/< matchday_directory >/` and rename file. IMPORTANT: Update file path in lines 14 and 15 if needed if you make a copy.\n",
    "\n"
   ]
  },
  {
   "cell_type": "markdown",
   "metadata": {},
   "source": [
    "### Import League Data & Define Sides\n",
    "\n",
    "Define 'home_side' and 'away_side'\n",
    "Ensure correct output\n",
    "\n"
   ]
  },
  {
   "cell_type": "code",
   "execution_count": 3,
   "metadata": {},
   "outputs": [
    {
     "name": "stdout",
     "output_type": "stream",
     "text": [
      "Ready to calculate probability for Ipswich v. Newcastle United\n"
     ]
    }
   ],
   "source": [
    "import pandas as pd\n",
    "from scipy.stats import poisson\n",
    "import numpy as np\n",
    "\n",
    "\"\"\"\n",
    "BUG: if copying from `notebooks/03_analysis_template_notebook.ipynb` to a directory in output\n",
    "for storage, ensure the file path for reading the csv will need to be updated from '../data/processed/home_table.csv'\n",
    "to '../../data/processed/home_table.csv' if frames are run again.\n",
    "\n",
    "TLDR\n",
    "if you are in ./notebooks/03_analysis_tempalte.csv you may run this cell as is. If you are not, check that following\n",
    "read_csv commands read from the correct directory.\n",
    "\"\"\"\n",
    "home_dataframe = pd.read_csv('../data/processed/home_table.csv')\n",
    "away_dataframe = pd.read_csv('../data/processed/away_table.csv')\n",
    "\n",
    "\"\"\"\n",
    "!!! INPUT TEAMS & MATCHDAY HERE !!!\n",
    "\n",
    "wrapped in quotes, eg.\n",
    "\n",
    "home_side = \"Bournemouth\"\n",
    "away_side = \"West Ham\"\n",
    "matchday = \"2024-12-16\" # (optional)\n",
    "\n",
    "If there is a ValueError,\n",
    "(1) check spelling against the error message. Must be exact.\n",
    "(2) check capitalization\n",
    "(3) check that it is wrapped in quotes\n",
    "\n",
    "!!! INPUT TEAMS & MATCHDAY HERE !!!\n",
    "\"\"\"\n",
    "home_side = \"Ipswich\"\n",
    "away_side = \"Newcastle United\"\n",
    "matchday = \"2024-12-21\" # (optional)\n",
    "\n",
    "# validate input\n",
    "clubs = set(home_dataframe['Team'].values)\n",
    "if home_side not in clubs:\n",
    "    raise ValueError(f\"Invalid entry for 'home_side'. Expected one of {clubs}, but received '{home_side}'\")\n",
    "elif away_side not in clubs:\n",
    "    raise ValueError(f\"Invalid entry for 'away_side'. Expected one of {clubs}, but received '{away_side}'\")\n",
    "else:\n",
    "    print(f\"Ready to calculate probability for {home_side} v. {away_side}\")"
   ]
  },
  {
   "cell_type": "markdown",
   "metadata": {},
   "source": [
    "### Calculate Projected Goals"
   ]
  },
  {
   "cell_type": "code",
   "execution_count": 4,
   "metadata": {},
   "outputs": [
    {
     "name": "stdout",
     "output_type": "stream",
     "text": [
      "0.75 1.5\n",
      "1.375 1.625\n",
      "1.61 1.4\n",
      "0.4658385093167702 1.0093167701863353 0.9821428571428572 1.0714285714285714\n",
      "\n",
      " ================== projected_goals ==================== \n",
      "\n",
      "HOME Ipswich projected goals: 0.7569875776397514\n",
      "AWAY Newcastle United projected goals:  1.4732142857142858\n"
     ]
    }
   ],
   "source": [
    "# 2. grab their gpm_scored and gpm_conceded\n",
    "home_side_gpm_scored = home_dataframe.loc[\n",
    "    home_dataframe[\"Team\"] == home_side,\n",
    "    \"gpm_scored\"\n",
    "].values[0]\n",
    "\n",
    "home_side_gpm_conceded = home_dataframe.loc[\n",
    "    home_dataframe[\"Team\"] == home_side,\n",
    "    \"gpm_conceded\"\n",
    "].values[0]\n",
    "\n",
    "print(home_side_gpm_scored, home_side_gpm_conceded)\n",
    "\n",
    "away_side_gpm_scored = away_dataframe.loc[\n",
    "    away_dataframe[\"Team\"] == away_side,\n",
    "    \"gpm_scored\"\n",
    "].values[0]\n",
    "\n",
    "away_side_gpm_conceded = away_dataframe.loc[\n",
    "    away_dataframe[\"Team\"] == away_side,\n",
    "    \"gpm_conceded\"\n",
    "].values[0]\n",
    "\n",
    "print(away_side_gpm_scored, away_side_gpm_conceded)\n",
    "\n",
    "# 3.\n",
    "epl_home_avg_gpm_scored = round(sum(home_dataframe[\"gpm_scored\"].values) / 20, 2)\n",
    "epl_home_avg_gpm_conceded = round(sum(home_dataframe[\"gpm_conceded\"].values) / 20, 2)\n",
    "print(epl_home_avg_gpm_scored, epl_home_avg_gpm_conceded)\n",
    "\n",
    "# 4. create a ratio (attack and defense rating) of their gpm to the league average gpm\n",
    "home_attack_rating = home_side_gpm_scored / epl_home_avg_gpm_scored\n",
    "away_defense_rating = away_side_gpm_conceded / epl_home_avg_gpm_scored\n",
    "away_attack_rating = away_side_gpm_scored / epl_home_avg_gpm_conceded\n",
    "home_defense_rating = home_side_gpm_conceded / epl_home_avg_gpm_conceded\n",
    "\n",
    "print(home_attack_rating, away_defense_rating, away_attack_rating, home_defense_rating)\n",
    "\n",
    "# home projected goals\n",
    "home_projected_goals = home_attack_rating * away_defense_rating * epl_home_avg_gpm_scored\n",
    "# away projected goals\n",
    "away_projected_goals = away_attack_rating * home_defense_rating * epl_home_avg_gpm_conceded\n",
    "print(\"\\n ================== projected_goals ==================== \\n\")\n",
    "print(f\"HOME {home_side} projected goals:\", home_projected_goals)\n",
    "print(f\"AWAY {away_side} projected goals: \", away_projected_goals)"
   ]
  },
  {
   "cell_type": "markdown",
   "metadata": {},
   "source": [
    "### Poisson Distribution of Goal Probabilities"
   ]
  },
  {
   "cell_type": "code",
   "execution_count": 5,
   "metadata": {},
   "outputs": [
    {
     "name": "stdout",
     "output_type": "stream",
     "text": [
      "Ipswich v. Newcastle United [[1.07506726e-01 8.13812563e-02 3.08023000e-02 7.77231950e-03\n",
      "  1.47088733e-03 2.22688687e-04 2.80954283e-05 3.03827003e-06\n",
      "  2.87491584e-07]\n",
      " [1.58380445e-01 1.19892029e-01 4.53783884e-02 1.14502921e-02\n",
      "  2.16693222e-03 3.28068155e-04 4.13905863e-05 4.47602281e-06\n",
      "  4.23536708e-07]\n",
      " [1.16664167e-01 8.83133252e-02 3.34260451e-02 8.43436696e-03\n",
      "  1.59617775e-03 2.41657346e-04 3.04886015e-05 3.29707037e-06\n",
      "  3.11980164e-07]\n",
      " [5.72904392e-02 4.33681508e-02 1.64145757e-02 4.14187663e-03\n",
      "  7.83837290e-04 1.18671018e-04 1.49720811e-05 1.61909706e-06\n",
      "  1.53204545e-07]\n",
      " [2.11002734e-02 1.59726448e-02 6.04554685e-03 1.52546796e-03\n",
      "  2.88690073e-04 4.37069598e-05 5.51427094e-06 5.96319229e-07\n",
      "  5.64257811e-08]\n",
      " [6.21704483e-03 4.70622570e-03 1.78127720e-03 4.49468237e-04\n",
      "  8.50604680e-05 1.28779435e-05 1.62474055e-06 1.75701201e-07\n",
      "  1.66254534e-08]\n",
      " [1.52650654e-03 1.15554649e-03 4.37367169e-04 1.10360505e-04\n",
      "  2.08853828e-05 3.16199506e-06 3.98931830e-07 4.31409200e-08\n",
      "  4.08214257e-09]\n",
      " [3.21267321e-04 2.43195371e-04 9.20479374e-05 2.32263817e-05\n",
      "  4.39552061e-06 6.65470900e-07 8.39588674e-08 9.07940280e-09\n",
      "  8.59124392e-10]\n",
      " [5.91619508e-05 4.47848618e-05 1.69507920e-05 4.27717967e-06\n",
      "  8.09442969e-07 1.22547654e-07 1.54611754e-08 1.67198824e-09\n",
      "  1.58209291e-10]]\n"
     ]
    }
   ],
   "source": [
    "# Poisson probability for home team goals 0 - 8\n",
    "home_score_prob = []\n",
    "away_score_prob = []\n",
    "for i in range(9):\n",
    "    prob = poisson.pmf(i, home_projected_goals)\n",
    "    home_score_prob.append(prob)\n",
    "for i in range(9):\n",
    "    prob = poisson.pmf(i, away_projected_goals)\n",
    "    away_score_prob.append(prob)\n",
    "\n",
    "home_score_prob = np.array(home_score_prob)\n",
    "away_score_prob = np.array(away_score_prob)\n",
    "# print(home_score_prob)\n",
    "# print(away_score_prob)\n",
    "\n",
    "exact_score_prob = np.outer(away_score_prob, home_score_prob)\n",
    "print(f\"{home_side} v. {away_side}\", exact_score_prob)"
   ]
  },
  {
   "cell_type": "markdown",
   "metadata": {},
   "source": [
    "### Under Market"
   ]
  },
  {
   "cell_type": "code",
   "execution_count": 6,
   "metadata": {},
   "outputs": [
    {
     "name": "stdout",
     "output_type": "stream",
     "text": [
      "~  ~ under market ~  ~\n",
      " Ipswich v. Newcastle United\n",
      "    Goals      Prob  Implied Odds\n",
      "0    0.5  0.107507      9.301744\n",
      "1    1.5  0.347268      2.879617\n",
      "2    2.5  0.614627      1.627003\n",
      "3    3.5  0.813381      1.229436\n"
     ]
    }
   ],
   "source": [
    "thresholds = [0.5, 1.5, 2.5, 3.5]\n",
    "sums = []\n",
    "\n",
    "for t in thresholds:\n",
    "    mask = np.add.outer(\n",
    "        np.arange(\n",
    "            exact_score_prob.shape[0]\n",
    "        ),\n",
    "        np.arange(\n",
    "            exact_score_prob.shape[1]\n",
    "        )\n",
    "    ) <= t\n",
    "    # print(mask)\n",
    "    sums.append(exact_score_prob[mask].sum())\n",
    "\n",
    "# print(sums)\n",
    "under_market_df = pd.DataFrame({\n",
    "    \"Goals\": thresholds,\n",
    "    \"Prob\": sums\n",
    "})\n",
    "under_market_df[\"Implied Odds\"] = 1 / under_market_df[\"Prob\"]\n",
    "print(\"~  ~ under market ~  ~\\n\", f\"{home_side} v. {away_side}\\n\", under_market_df)"
   ]
  },
  {
   "cell_type": "code",
   "execution_count": 7,
   "metadata": {},
   "outputs": [
    {
     "name": "stdout",
     "output_type": "stream",
     "text": [
      "~  ~ over market ~  ~\n",
      " Ipswich v. Newcastle United\n",
      "    Goals      Prob  Implied Odds\n",
      "0    0.5  0.892469      1.120487\n",
      "1    1.5  0.652707      1.532080\n",
      "2    2.5  0.385349      2.595051\n",
      "3    3.5  0.186594      5.359219\n"
     ]
    }
   ],
   "source": [
    "thresholds = [0.5, 1.5, 2.5, 3.5]\n",
    "sums = []\n",
    "\n",
    "for t in thresholds:\n",
    "    mask = np.add.outer(\n",
    "        np.arange(\n",
    "            exact_score_prob.shape[0]\n",
    "        ),\n",
    "        np.arange(\n",
    "            exact_score_prob.shape[1]\n",
    "        )\n",
    "    ) >= t\n",
    "    sums.append(exact_score_prob[mask].sum())\n",
    "\n",
    "# print(sums)\n",
    "over_market_df = pd.DataFrame({\n",
    "    \"Goals\": thresholds,\n",
    "    \"Prob\": sums\n",
    "})\n",
    "\n",
    "over_market_df[\"Implied Odds\"] = 1 / over_market_df[\"Prob\"]\n",
    "print(\"~  ~ over market ~  ~\\n\", f\"{home_side} v. {away_side}\\n\", over_market_df)"
   ]
  },
  {
   "cell_type": "markdown",
   "metadata": {},
   "source": [
    "### 1 x 2 Probability"
   ]
  },
  {
   "cell_type": "code",
   "execution_count": 8,
   "metadata": {},
   "outputs": [
    {
     "name": "stdout",
     "output_type": "stream",
     "text": [
      "      ~  ~ moneyline market ~  ~\n",
      "                  winner      prob  implied_odds\n",
      "0           Ipswich (1)  0.192328      5.199447\n",
      "1              Draw (x)  0.265269      3.769763\n",
      "2  Newcastle United (2)  0.542379      1.843729\n"
     ]
    }
   ],
   "source": [
    "# Poisson probability for home team goals 0 - 8\n",
    "home_score_prob = []\n",
    "away_score_prob = []\n",
    "for i in range(9):\n",
    "    prob = poisson.pmf(i, home_projected_goals)\n",
    "    home_score_prob.append(prob)\n",
    "for i in range(9):\n",
    "    prob = poisson.pmf(i, away_projected_goals)\n",
    "    away_score_prob.append(prob)\n",
    "\n",
    "home_score_prob = np.array(home_score_prob)\n",
    "away_score_prob = np.array(away_score_prob)\n",
    "# print(home_score_prob)\n",
    "# print(away_score_prob)\n",
    "\n",
    "exact_score_prob = np.outer(away_score_prob, home_score_prob)\n",
    "\n",
    "# print(exact_score_prob)\n",
    "home_win_prob = np.sum(np.triu(exact_score_prob, k=1))\n",
    "away_win_prob = np.sum(np.tril(exact_score_prob, k=-1))\n",
    "draw_prob = np.trace(exact_score_prob)\n",
    "\n",
    "# prepare data in readable dataframe\n",
    "data = {\n",
    "    \"winner\": [f\"{home_side} (1)\", \"Draw (x)\", f\"{away_side} (2)\"],\n",
    "    \"prob\": [home_win_prob, draw_prob, away_win_prob],\n",
    "}\n",
    "result_df = pd.DataFrame(data)\n",
    "result_df['implied_odds'] = 1 / result_df['prob']\n",
    "print(\"      ~  ~ moneyline market ~  ~\\n\", result_df)"
   ]
  },
  {
   "cell_type": "markdown",
   "metadata": {},
   "source": [
    "# Full Results Summary:"
   ]
  },
  {
   "cell_type": "code",
   "execution_count": 9,
   "metadata": {},
   "outputs": [
    {
     "name": "stdout",
     "output_type": "stream",
     "text": [
      "CALCULATED PROBABILITIES FOR Ipswich Town v. Newcastle United\n",
      "\n",
      "\n",
      "        ~ ~ moneyline market ~ ~\n",
      "\n",
      "                  winner      prob  implied_odds\n",
      "0           Ipswich (1)  0.192328      5.199447\n",
      "1              Draw (x)  0.265269      3.769763\n",
      "2  Newcastle United (2)  0.542379      1.843729\n",
      "\n",
      "\n",
      "          ~ ~ over market ~ ~ \n",
      "\n",
      "    Goals      Prob  Implied Odds\n",
      "0    0.5  0.892469      1.120487\n",
      "1    1.5  0.652707      1.532080\n",
      "2    2.5  0.385349      2.595051\n",
      "3    3.5  0.186594      5.359219\n",
      "\n",
      "\n",
      "          ~ ~ under market ~ ~ \n",
      "\n",
      "    Goals      Prob  Implied Odds\n",
      "0    0.5  0.107507      9.301744\n",
      "1    1.5  0.347268      2.879617\n",
      "2    2.5  0.614627      1.627003\n",
      "3    3.5  0.813381      1.229436\n",
      "\n",
      " ~~ MyBookie Odds for Ipswich Town v. Newcastle United ~~\n",
      "      1     x    2  ovr_und_point  over  under\n",
      "3  4.5  3.85  1.7            2.5   1.6   2.25\n",
      "\n",
      " ~~ MyBookie Odds IMPLIED for Ipswich Town v. Newcastle United ~~\n",
      "           1        x         2  point   over     under\n",
      "3  0.222222  0.25974  0.588235    2.5  0.625  0.444444\n"
     ]
    }
   ],
   "source": [
    "# helper function to translate discrepency between Understat and Odds-Api naming\n",
    "def translate(string):\n",
    "\n",
    "    translations = {\n",
    "        \"Brighton\": \"Brighton and Hove Albion\",\n",
    "        \"Ipswich\": \"Ipswich Town\",\n",
    "        \"Leicester\": \"Leicester City\",\n",
    "        \"Tottenham\": \"Tottenham Hotspur\",\n",
    "        \"West Ham\": \"West Ham United\"\n",
    "    }\n",
    "\n",
    "    if string in translations:\n",
    "        return translations[string]\n",
    "    return string\n",
    "\n",
    "home_side, away_side = translate(home_side), translate(away_side)\n",
    "\n",
    "match_string = f\"{home_side} v. {away_side}\"\n",
    "\n",
    "print(f\"CALCULATED PROBABILITIES FOR {home_side} v. {away_side}\")\n",
    "print(\"\\n\\n        ~ ~ moneyline market ~ ~\\n\\n\", result_df)\n",
    "print(\"\\n\\n          ~ ~ over market ~ ~ \\n\\n\", over_market_df)\n",
    "print(\"\\n\\n          ~ ~ under market ~ ~ \\n\\n\", under_market_df)\n",
    "\n",
    "try:\n",
    "    odds_df = pd.read_csv(f\"../data/processed/odds/odds_matchday_{matchday}.csv\")\n",
    "    filtered_odds = odds_df.loc[odds_df[\"match\"] == match_string]\n",
    "    implied = {\n",
    "        \"1\": 1 / filtered_odds[\"1\"],\n",
    "        \"x\": 1 / filtered_odds[\"x\"],\n",
    "        \"2\": 1 / filtered_odds[\"2\"],\n",
    "        \"point\": filtered_odds[\"ovr_und_point\"],\n",
    "        \"over\": 1 / filtered_odds[\"over\"],\n",
    "        \"under\": 1 / filtered_odds[\"under\"]\n",
    "    }\n",
    "    implied_odds_df = pd.DataFrame(implied)\n",
    "\n",
    "    print(f\"\\n ~~ MyBookie Odds for {match_string} ~~\\n\",filtered_odds.drop(columns=[\"match\"]))\n",
    "    print(f\"\\n ~~ MyBookie Odds IMPLIED for {match_string} ~~\\n\", implied_odds_df)\n",
    "except:\n",
    "    print(f\"No data for sportsbook odds on matchday {matchday}. To view against real odds, run `notebooks/03_retrieve_odds.ipynb` ran correctly and ensure matchday is correct in the first cell of this notebook\")\n"
   ]
  },
  {
   "cell_type": "markdown",
   "metadata": {},
   "source": [
    "# Conclusion and Pick\n",
    "SAFE: I like Newcastle to win this, I don't love the moneyline offer here. Leaning towards no bet.\n",
    "### My Pick:\n",
    "\n",
    "**NO BET** "
   ]
  },
  {
   "cell_type": "markdown",
   "metadata": {},
   "source": []
  }
 ],
 "metadata": {
  "kernelspec": {
   "display_name": ".venv",
   "language": "python",
   "name": "python3"
  },
  "language_info": {
   "codemirror_mode": {
    "name": "ipython",
    "version": 3
   },
   "file_extension": ".py",
   "mimetype": "text/x-python",
   "name": "python",
   "nbconvert_exporter": "python",
   "pygments_lexer": "ipython3",
   "version": "3.12.1"
  }
 },
 "nbformat": 4,
 "nbformat_minor": 2
}
