{
 "cells": [
  {
   "cell_type": "markdown",
   "metadata": {},
   "source": [
    "# ASTON VILLA v. MANCHESTER CITY - 2024-12-21 match analysis\n",
    "*This notebook intends to walk through the theory and calculations I am currently using in my model to calculate probability of 1 x 2 result and a table of over / under goal projections. I will break the calculations out into utility functions stored in `../src/utils` for ease of use in future explorations. This is to document the calculations.*\n",
    "\n",
    "### Instructions:\n",
    "\n",
    "1. Ensure all cells in all notebooks in `/notebooks` directory have been run.\n",
    "2. Define `home_side` and `away_side` in first cell. If making a comparison with odds from `03_retrieve_odds.ipynb` also enter matchday.\n",
    "3. Click 'run all'\n",
    "4. Probability for 1 x 2 and over / under can be viewed in the last cell\n",
    "5. *Suggestion:* copy and paste notebook to `../output/< matchday_directory >/` and rename file. IMPORTANT: Update file path in lines 14 and 15 if needed if you make a copy.\n",
    "\n"
   ]
  },
  {
   "cell_type": "markdown",
   "metadata": {},
   "source": [
    "### Import League Data & Define Sides\n",
    "\n",
    "Define 'home_side' and 'away_side'\n",
    "Ensure correct output\n",
    "\n"
   ]
  },
  {
   "cell_type": "code",
   "execution_count": 2,
   "metadata": {},
   "outputs": [
    {
     "name": "stdout",
     "output_type": "stream",
     "text": [
      "Ready to calculate probability for Aston Villa v. Manchester City\n"
     ]
    }
   ],
   "source": [
    "import pandas as pd\n",
    "from scipy.stats import poisson\n",
    "import numpy as np\n",
    "\n",
    "\"\"\"\n",
    "BUG: if copying from `notebooks/03_analysis_template_notebook.ipynb` to a directory in output\n",
    "for storage, ensure the file path for reading the csv will need to be updated from '../data/processed/home_table.csv'\n",
    "to '../../data/processed/home_table.csv' if frames are run again.\n",
    "\n",
    "TLDR\n",
    "if you are in ./notebooks/03_analysis_tempalte.csv you may run this cell as is. If you are not, check that following\n",
    "read_csv commands read from the correct directory.\n",
    "\"\"\"\n",
    "home_dataframe = pd.read_csv('../data/processed/home_table.csv')\n",
    "away_dataframe = pd.read_csv('../data/processed/away_table.csv')\n",
    "\n",
    "\"\"\"\n",
    "!!! INPUT TEAMS & MATCHDAY HERE !!!\n",
    "\n",
    "wrapped in quotes, eg.\n",
    "\n",
    "home_side = \"Bournemouth\"\n",
    "away_side = \"West Ham\"\n",
    "matchday = \"2024-12-16\" # (optional)\n",
    "\n",
    "If there is a ValueError,\n",
    "(1) check spelling against the error message. Must be exact.\n",
    "(2) check capitalization\n",
    "(3) check that it is wrapped in quotes\n",
    "\n",
    "!!! INPUT TEAMS & MATCHDAY HERE !!!\n",
    "\"\"\"\n",
    "home_side = \"Aston Villa\"\n",
    "away_side = \"Manchester City\"\n",
    "matchday = \"2024-12-21\" # (optional)\n",
    "\n",
    "# validate input\n",
    "clubs = set(home_dataframe['Team'].values)\n",
    "if home_side not in clubs:\n",
    "    raise ValueError(f\"Invalid entry for 'home_side'. Expected one of {clubs}, but received '{home_side}'\")\n",
    "elif away_side not in clubs:\n",
    "    raise ValueError(f\"Invalid entry for 'away_side'. Expected one of {clubs}, but received '{away_side}'\")\n",
    "else:\n",
    "    print(f\"Ready to calculate probability for {home_side} v. {away_side}\")"
   ]
  },
  {
   "cell_type": "markdown",
   "metadata": {},
   "source": [
    "### Calculate Projected Goals"
   ]
  },
  {
   "cell_type": "code",
   "execution_count": 3,
   "metadata": {},
   "outputs": [
    {
     "name": "stdout",
     "output_type": "stream",
     "text": [
      "1.625 1.125\n",
      "1.5 1.375\n",
      "1.61 1.4\n",
      "1.0093167701863353 0.8540372670807453 1.0714285714285714 0.8035714285714286\n",
      "\n",
      " ================== projected_goals ==================== \n",
      "\n",
      "HOME Aston Villa projected goals: 1.387810559006211\n",
      "AWAY Manchester City projected goals:  1.2053571428571428\n"
     ]
    }
   ],
   "source": [
    "# 2. grab their gpm_scored and gpm_conceded\n",
    "home_side_gpm_scored = home_dataframe.loc[\n",
    "    home_dataframe[\"Team\"] == home_side,\n",
    "    \"gpm_scored\"\n",
    "].values[0]\n",
    "\n",
    "home_side_gpm_conceded = home_dataframe.loc[\n",
    "    home_dataframe[\"Team\"] == home_side,\n",
    "    \"gpm_conceded\"\n",
    "].values[0]\n",
    "\n",
    "print(home_side_gpm_scored, home_side_gpm_conceded)\n",
    "\n",
    "away_side_gpm_scored = away_dataframe.loc[\n",
    "    away_dataframe[\"Team\"] == away_side,\n",
    "    \"gpm_scored\"\n",
    "].values[0]\n",
    "\n",
    "away_side_gpm_conceded = away_dataframe.loc[\n",
    "    away_dataframe[\"Team\"] == away_side,\n",
    "    \"gpm_conceded\"\n",
    "].values[0]\n",
    "\n",
    "print(away_side_gpm_scored, away_side_gpm_conceded)\n",
    "\n",
    "# 3.\n",
    "epl_home_avg_gpm_scored = round(sum(home_dataframe[\"gpm_scored\"].values) / 20, 2)\n",
    "epl_home_avg_gpm_conceded = round(sum(home_dataframe[\"gpm_conceded\"].values) / 20, 2)\n",
    "print(epl_home_avg_gpm_scored, epl_home_avg_gpm_conceded)\n",
    "\n",
    "# 4. create a ratio (attack and defense rating) of their gpm to the league average gpm\n",
    "home_attack_rating = home_side_gpm_scored / epl_home_avg_gpm_scored\n",
    "away_defense_rating = away_side_gpm_conceded / epl_home_avg_gpm_scored\n",
    "away_attack_rating = away_side_gpm_scored / epl_home_avg_gpm_conceded\n",
    "home_defense_rating = home_side_gpm_conceded / epl_home_avg_gpm_conceded\n",
    "\n",
    "print(home_attack_rating, away_defense_rating, away_attack_rating, home_defense_rating)\n",
    "\n",
    "# home projected goals\n",
    "home_projected_goals = home_attack_rating * away_defense_rating * epl_home_avg_gpm_scored\n",
    "# away projected goals\n",
    "away_projected_goals = away_attack_rating * home_defense_rating * epl_home_avg_gpm_conceded\n",
    "print(\"\\n ================== projected_goals ==================== \\n\")\n",
    "print(f\"HOME {home_side} projected goals:\", home_projected_goals)\n",
    "print(f\"AWAY {away_side} projected goals: \", away_projected_goals)"
   ]
  },
  {
   "cell_type": "markdown",
   "metadata": {},
   "source": [
    "### Poisson Distribution of Goal Probabilities"
   ]
  },
  {
   "cell_type": "code",
   "execution_count": 4,
   "metadata": {},
   "outputs": [
    {
     "name": "stdout",
     "output_type": "stream",
     "text": [
      "Aston Villa v. Manchester City [[7.47827750e-02 1.03784325e-01 7.20164908e-02 3.33150821e-02\n",
      "  1.15587557e-02 3.20827264e-03 7.42079108e-04 1.47123603e-04\n",
      "  2.55224612e-05]\n",
      " [9.01399520e-02 1.25097177e-01 8.68055916e-02 4.01565722e-02\n",
      "  1.39324287e-02 3.86711434e-03 8.94470353e-04 1.77336486e-04\n",
      "  3.07636809e-05]\n",
      " [5.43254175e-02 7.53933880e-02 5.23158700e-02 2.42015056e-02\n",
      "  8.39677625e-03 2.33062695e-03 5.39078114e-04 1.06876900e-04\n",
      "  1.85406113e-05]\n",
      " [2.18271767e-02 3.02919862e-02 2.10197692e-02 9.72381921e-03\n",
      "  3.37370474e-03 9.36412613e-04 2.16593885e-04 4.29416116e-05\n",
      "  7.44935275e-06]\n",
      " [6.57738582e-03 9.12816550e-03 6.33408223e-03 2.93016873e-03\n",
      "  1.01662978e-03 2.82177908e-04 6.52682467e-05 1.29399946e-05\n",
      "  2.24478264e-06]\n",
      " [1.58561980e-03 2.20053990e-03 1.52696625e-03 7.06379963e-04\n",
      "  2.45080393e-04 6.80250314e-05 1.57343095e-05 3.11946297e-06\n",
      "  5.41152957e-07]\n",
      " [3.18539691e-04 4.42072747e-04 3.06756613e-04 1.41906689e-04\n",
      "  4.92349003e-05 1.36657429e-05 3.16091038e-06 6.26677830e-07\n",
      "  1.08713764e-07]\n",
      " [5.48505846e-05 7.61222205e-05 5.28216107e-05 2.44354630e-05\n",
      "  8.47794840e-06 2.35315726e-06 5.44289416e-07 1.07910085e-07\n",
      "  1.87198445e-08]\n",
      " [8.26431799e-06 1.14693078e-05 7.95861322e-06 3.68168249e-06\n",
      "  1.27736946e-06 3.54549364e-07 8.20078919e-08 1.62587740e-08\n",
      "  2.82051229e-09]]\n"
     ]
    }
   ],
   "source": [
    "# Poisson probability for home team goals 0 - 8\n",
    "home_score_prob = []\n",
    "away_score_prob = []\n",
    "for i in range(9):\n",
    "    prob = poisson.pmf(i, home_projected_goals)\n",
    "    home_score_prob.append(prob)\n",
    "for i in range(9):\n",
    "    prob = poisson.pmf(i, away_projected_goals)\n",
    "    away_score_prob.append(prob)\n",
    "\n",
    "home_score_prob = np.array(home_score_prob)\n",
    "away_score_prob = np.array(away_score_prob)\n",
    "# print(home_score_prob)\n",
    "# print(away_score_prob)\n",
    "\n",
    "exact_score_prob = np.outer(away_score_prob, home_score_prob)\n",
    "print(f\"{home_side} v. {away_side}\", exact_score_prob)"
   ]
  },
  {
   "cell_type": "markdown",
   "metadata": {},
   "source": [
    "### Under Market"
   ]
  },
  {
   "cell_type": "code",
   "execution_count": 5,
   "metadata": {},
   "outputs": [
    {
     "name": "stdout",
     "output_type": "stream",
     "text": [
      "~  ~ under market ~  ~\n",
      " Aston Villa v. Manchester City\n",
      "    Goals      Prob  Implied Odds\n",
      "0    0.5  0.074783     13.372063\n",
      "1    1.5  0.268707      3.721525\n",
      "2    2.5  0.520146      1.922537\n",
      "3    3.5  0.737487      1.355955\n"
     ]
    }
   ],
   "source": [
    "thresholds = [0.5, 1.5, 2.5, 3.5]\n",
    "sums = []\n",
    "\n",
    "for t in thresholds:\n",
    "    mask = np.add.outer(\n",
    "        np.arange(\n",
    "            exact_score_prob.shape[0]\n",
    "        ),\n",
    "        np.arange(\n",
    "            exact_score_prob.shape[1]\n",
    "        )\n",
    "    ) <= t\n",
    "    # print(mask)\n",
    "    sums.append(exact_score_prob[mask].sum())\n",
    "\n",
    "# print(sums)\n",
    "under_market_df = pd.DataFrame({\n",
    "    \"Goals\": thresholds,\n",
    "    \"Prob\": sums\n",
    "})\n",
    "under_market_df[\"Implied Odds\"] = 1 / under_market_df[\"Prob\"]\n",
    "print(\"~  ~ under market ~  ~\\n\", f\"{home_side} v. {away_side}\\n\", under_market_df)"
   ]
  },
  {
   "cell_type": "code",
   "execution_count": 6,
   "metadata": {},
   "outputs": [
    {
     "name": "stdout",
     "output_type": "stream",
     "text": [
      "~  ~ over market ~  ~\n",
      " Aston Villa v. Manchester City\n",
      "    Goals      Prob  Implied Odds\n",
      "0    0.5  0.925197      1.080851\n",
      "1    1.5  0.731273      1.367479\n",
      "2    2.5  0.479834      2.084056\n",
      "3    3.5  0.262492      3.809635\n"
     ]
    }
   ],
   "source": [
    "thresholds = [0.5, 1.5, 2.5, 3.5]\n",
    "sums = []\n",
    "\n",
    "for t in thresholds:\n",
    "    mask = np.add.outer(\n",
    "        np.arange(\n",
    "            exact_score_prob.shape[0]\n",
    "        ),\n",
    "        np.arange(\n",
    "            exact_score_prob.shape[1]\n",
    "        )\n",
    "    ) >= t\n",
    "    sums.append(exact_score_prob[mask].sum())\n",
    "\n",
    "# print(sums)\n",
    "over_market_df = pd.DataFrame({\n",
    "    \"Goals\": thresholds,\n",
    "    \"Prob\": sums\n",
    "})\n",
    "\n",
    "over_market_df[\"Implied Odds\"] = 1 / over_market_df[\"Prob\"]\n",
    "print(\"~  ~ over market ~  ~\\n\", f\"{home_side} v. {away_side}\\n\", over_market_df)"
   ]
  },
  {
   "cell_type": "markdown",
   "metadata": {},
   "source": [
    "### 1 x 2 Probability"
   ]
  },
  {
   "cell_type": "code",
   "execution_count": 7,
   "metadata": {},
   "outputs": [
    {
     "name": "stdout",
     "output_type": "stream",
     "text": [
      "      ~  ~ moneyline market ~  ~\n",
      "                 winner      prob  implied_odds\n",
      "0      Aston Villa (1)  0.411215      2.431817\n",
      "1             Draw (x)  0.263008      3.802172\n",
      "2  Manchester City (2)  0.325757      3.069773\n"
     ]
    }
   ],
   "source": [
    "# Poisson probability for home team goals 0 - 8\n",
    "home_score_prob = []\n",
    "away_score_prob = []\n",
    "for i in range(9):\n",
    "    prob = poisson.pmf(i, home_projected_goals)\n",
    "    home_score_prob.append(prob)\n",
    "for i in range(9):\n",
    "    prob = poisson.pmf(i, away_projected_goals)\n",
    "    away_score_prob.append(prob)\n",
    "\n",
    "home_score_prob = np.array(home_score_prob)\n",
    "away_score_prob = np.array(away_score_prob)\n",
    "# print(home_score_prob)\n",
    "# print(away_score_prob)\n",
    "\n",
    "exact_score_prob = np.outer(away_score_prob, home_score_prob)\n",
    "\n",
    "# print(exact_score_prob)\n",
    "home_win_prob = np.sum(np.triu(exact_score_prob, k=1))\n",
    "away_win_prob = np.sum(np.tril(exact_score_prob, k=-1))\n",
    "draw_prob = np.trace(exact_score_prob)\n",
    "\n",
    "# prepare data in readable dataframe\n",
    "data = {\n",
    "    \"winner\": [f\"{home_side} (1)\", \"Draw (x)\", f\"{away_side} (2)\"],\n",
    "    \"prob\": [home_win_prob, draw_prob, away_win_prob],\n",
    "}\n",
    "result_df = pd.DataFrame(data)\n",
    "result_df['implied_odds'] = 1 / result_df['prob']\n",
    "print(\"      ~  ~ moneyline market ~  ~\\n\", result_df)"
   ]
  },
  {
   "cell_type": "markdown",
   "metadata": {},
   "source": [
    "# Full Results Summary:"
   ]
  },
  {
   "cell_type": "code",
   "execution_count": 8,
   "metadata": {},
   "outputs": [
    {
     "name": "stdout",
     "output_type": "stream",
     "text": [
      "CALCULATED PROBABILITIES FOR Aston Villa v. Manchester City\n",
      "\n",
      "\n",
      "        ~ ~ moneyline market ~ ~\n",
      "\n",
      "                 winner      prob  implied_odds\n",
      "0      Aston Villa (1)  0.411215      2.431817\n",
      "1             Draw (x)  0.263008      3.802172\n",
      "2  Manchester City (2)  0.325757      3.069773\n",
      "\n",
      "\n",
      "          ~ ~ over market ~ ~ \n",
      "\n",
      "    Goals      Prob  Implied Odds\n",
      "0    0.5  0.925197      1.080851\n",
      "1    1.5  0.731273      1.367479\n",
      "2    2.5  0.479834      2.084056\n",
      "3    3.5  0.262492      3.809635\n",
      "\n",
      "\n",
      "          ~ ~ under market ~ ~ \n",
      "\n",
      "    Goals      Prob  Implied Odds\n",
      "0    0.5  0.074783     13.372063\n",
      "1    1.5  0.268707      3.721525\n",
      "2    2.5  0.520146      1.922537\n",
      "3    3.5  0.737487      1.355955\n",
      "\n",
      " ~~ MyBookie Odds for Aston Villa v. Manchester City ~~\n",
      "      1     x     2  ovr_und_point  over  under\n",
      "0  3.1  3.65  2.07            2.5  1.54   2.32\n",
      "\n",
      " ~~ MyBookie Odds IMPLIED for Aston Villa v. Manchester City ~~\n",
      "           1         x         2  point      over     under\n",
      "0  0.322581  0.273973  0.483092    2.5  0.649351  0.431034\n"
     ]
    }
   ],
   "source": [
    "# helper function to translate discrepency between Understat and Odds-Api naming\n",
    "def translate(string):\n",
    "\n",
    "    translations = {\n",
    "        \"Brighton\": \"Brighton and Hove Albion\",\n",
    "        \"Ipswich\": \"Ipswich Town\",\n",
    "        \"Leicester\": \"Leicester City\",\n",
    "        \"Tottenham\": \"Tottenham Hotspur\",\n",
    "        \"West Ham\": \"West Ham United\"\n",
    "    }\n",
    "\n",
    "    if string in translations:\n",
    "        return translations[string]\n",
    "    return string\n",
    "\n",
    "home_side, away_side = translate(home_side), translate(away_side)\n",
    "\n",
    "match_string = f\"{home_side} v. {away_side}\"\n",
    "\n",
    "print(f\"CALCULATED PROBABILITIES FOR {home_side} v. {away_side}\")\n",
    "print(\"\\n\\n        ~ ~ moneyline market ~ ~\\n\\n\", result_df)\n",
    "print(\"\\n\\n          ~ ~ over market ~ ~ \\n\\n\", over_market_df)\n",
    "print(\"\\n\\n          ~ ~ under market ~ ~ \\n\\n\", under_market_df)\n",
    "\n",
    "try:\n",
    "    odds_df = pd.read_csv(f\"../data/processed/odds/odds_matchday_{matchday}.csv\")\n",
    "    filtered_odds = odds_df.loc[odds_df[\"match\"] == match_string]\n",
    "    implied = {\n",
    "        \"1\": 1 / filtered_odds[\"1\"],\n",
    "        \"x\": 1 / filtered_odds[\"x\"],\n",
    "        \"2\": 1 / filtered_odds[\"2\"],\n",
    "        \"point\": filtered_odds[\"ovr_und_point\"],\n",
    "        \"over\": 1 / filtered_odds[\"over\"],\n",
    "        \"under\": 1 / filtered_odds[\"under\"]\n",
    "    }\n",
    "    implied_odds_df = pd.DataFrame(implied)\n",
    "\n",
    "    print(f\"\\n ~~ MyBookie Odds for {match_string} ~~\\n\",filtered_odds.drop(columns=[\"match\"]))\n",
    "    print(f\"\\n ~~ MyBookie Odds IMPLIED for {match_string} ~~\\n\", implied_odds_df)\n",
    "except:\n",
    "    print(f\"No data for sportsbook odds on matchday {matchday}. To view against real odds, run `notebooks/03_retrieve_odds.ipynb` ran correctly and ensure matchday is correct in the first cell of this notebook\")\n"
   ]
  },
  {
   "cell_type": "markdown",
   "metadata": {},
   "source": [
    "# Conclusion and Pick\n",
    "Value pick with the model is Villa, but I'm not ready to wager against the Citizens just yet despite their bad run of form.\n",
    "### My Pick:\n",
    "\n",
    "**NO BET**"
   ]
  },
  {
   "cell_type": "markdown",
   "metadata": {},
   "source": []
  }
 ],
 "metadata": {
  "kernelspec": {
   "display_name": ".venv",
   "language": "python",
   "name": "python3"
  },
  "language_info": {
   "codemirror_mode": {
    "name": "ipython",
    "version": 3
   },
   "file_extension": ".py",
   "mimetype": "text/x-python",
   "name": "python",
   "nbconvert_exporter": "python",
   "pygments_lexer": "ipython3",
   "version": "3.12.1"
  }
 },
 "nbformat": 4,
 "nbformat_minor": 2
}
