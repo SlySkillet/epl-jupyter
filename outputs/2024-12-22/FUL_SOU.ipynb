{
 "cells": [
  {
   "cell_type": "markdown",
   "metadata": {},
   "source": [
    "# Fulham v. Southampton - 2024-12-22 match analysis\n",
    "*This notebook intends to walk through the theory and calculations I am currently using in my model to calculate probability of 1 x 2 result and a table of over / under goal projections. I will break the calculations out into utility functions stored in `../src/utils` for ease of use in future explorations. This is to document the calculations.*\n",
    "\n",
    "### Instructions:\n",
    "\n",
    "1. Ensure all cells in all notebooks in `/notebooks` directory have been run.\n",
    "2. Define `home_side` and `away_side` in first cell. If making a comparison with odds from `03_retrieve_odds.ipynb` also enter matchday.\n",
    "3. Click 'run all'\n",
    "4. Probability for 1 x 2 and over / under can be viewed in the last cell\n",
    "5. *Suggestion:* copy and paste notebook to `../output/< matchday_directory >/` and rename file. IMPORTANT: Update file path in lines 14 and 15 if needed if you make a copy.\n",
    "\n"
   ]
  },
  {
   "cell_type": "markdown",
   "metadata": {},
   "source": [
    "### Import League Data & Define Sides\n",
    "\n",
    "Define 'home_side' and 'away_side'\n",
    "Ensure correct output\n",
    "\n"
   ]
  },
  {
   "cell_type": "code",
   "execution_count": 11,
   "metadata": {},
   "outputs": [
    {
     "name": "stdout",
     "output_type": "stream",
     "text": [
      "Ready to calculate probability for Fulham v. Southampton\n",
      "\n",
      "NOTEBOOK TITLE (copy and paste): \n",
      "\n",
      "Fulham v. Southampton - 2024-12-22 match analysis\n"
     ]
    }
   ],
   "source": [
    "import pandas as pd\n",
    "from scipy.stats import poisson\n",
    "import numpy as np\n",
    "\n",
    "\"\"\"\n",
    "BUG: if copying from `notebooks/03_analysis_template_notebook.ipynb` to a directory in output\n",
    "for storage, ensure the file path for reading the csv will need to be updated from '../data/processed/home_table.csv'\n",
    "to '../../data/processed/home_table.csv' if frames are run again.\n",
    "\n",
    "TLDR\n",
    "if you are in ./notebooks/03_analysis_tempalte.csv you may run this cell as is. If you are not, check that following\n",
    "read_csv commands read from the correct directory.\n",
    "\"\"\"\n",
    "home_dataframe = pd.read_csv('../data/processed/home_table.csv')\n",
    "away_dataframe = pd.read_csv('../data/processed/away_table.csv')\n",
    "\n",
    "\"\"\"\n",
    "!!! INPUT TEAMS & MATCHDAY HERE !!!\n",
    "\n",
    "wrapped in quotes, eg.\n",
    "\n",
    "home_side = \"Bournemouth\"\n",
    "away_side = \"West Ham\"\n",
    "matchday = \"2024-12-16\" # (optional)\n",
    "\n",
    "If there is a ValueError,\n",
    "(1) check spelling against the error message. Must be exact.\n",
    "(2) check capitalization\n",
    "(3) check that it is wrapped in quotes\n",
    "\n",
    "!!! INPUT TEAMS & MATCHDAY HERE !!!\n",
    "\"\"\"\n",
    "home_side = \"Fulham\"\n",
    "away_side = \"Southampton\"\n",
    "matchday = \"2024-12-22\" # (optional)\n",
    "\n",
    "# validate input\n",
    "clubs = set(home_dataframe['Team'].values)\n",
    "if home_side not in clubs:\n",
    "    raise ValueError(f\"Invalid entry for 'home_side'. Expected one of {clubs}, but received '{home_side}'\")\n",
    "elif away_side not in clubs:\n",
    "    raise ValueError(f\"Invalid entry for 'away_side'. Expected one of {clubs}, but received '{away_side}'\")\n",
    "else:\n",
    "    print(f\"Ready to calculate probability for {home_side} v. {away_side}\")\n",
    "    print(\"\\nNOTEBOOK TITLE (copy and paste): \\n\")\n",
    "    print(f\"{home_side} v. {away_side} - {matchday} match analysis\")"
   ]
  },
  {
   "cell_type": "markdown",
   "metadata": {},
   "source": [
    "### Calculate Projected Goals"
   ]
  },
  {
   "cell_type": "code",
   "execution_count": 12,
   "metadata": {},
   "outputs": [
    {
     "name": "stdout",
     "output_type": "stream",
     "text": [
      "1.75 1.625\n",
      "0.5 1.875\n",
      "1.61 1.4\n",
      "1.0869565217391304 1.1645962732919255 0.35714285714285715 1.1607142857142858\n",
      "\n",
      " ================== projected_goals ==================== \n",
      "\n",
      "HOME Fulham projected goals: 2.0380434782608696\n",
      "AWAY Southampton projected goals:  0.5803571428571429\n"
     ]
    }
   ],
   "source": [
    "# 2. grab their gpm_scored and gpm_conceded\n",
    "home_side_gpm_scored = home_dataframe.loc[\n",
    "    home_dataframe[\"Team\"] == home_side,\n",
    "    \"gpm_scored\"\n",
    "].values[0]\n",
    "\n",
    "home_side_gpm_conceded = home_dataframe.loc[\n",
    "    home_dataframe[\"Team\"] == home_side,\n",
    "    \"gpm_conceded\"\n",
    "].values[0]\n",
    "\n",
    "print(home_side_gpm_scored, home_side_gpm_conceded)\n",
    "\n",
    "away_side_gpm_scored = away_dataframe.loc[\n",
    "    away_dataframe[\"Team\"] == away_side,\n",
    "    \"gpm_scored\"\n",
    "].values[0]\n",
    "\n",
    "away_side_gpm_conceded = away_dataframe.loc[\n",
    "    away_dataframe[\"Team\"] == away_side,\n",
    "    \"gpm_conceded\"\n",
    "].values[0]\n",
    "\n",
    "print(away_side_gpm_scored, away_side_gpm_conceded)\n",
    "\n",
    "# 3.\n",
    "epl_home_avg_gpm_scored = round(sum(home_dataframe[\"gpm_scored\"].values) / 20, 2)\n",
    "epl_home_avg_gpm_conceded = round(sum(home_dataframe[\"gpm_conceded\"].values) / 20, 2)\n",
    "print(epl_home_avg_gpm_scored, epl_home_avg_gpm_conceded)\n",
    "\n",
    "# 4. create a ratio (attack and defense rating) of their gpm to the league average gpm\n",
    "home_attack_rating = home_side_gpm_scored / epl_home_avg_gpm_scored\n",
    "away_defense_rating = away_side_gpm_conceded / epl_home_avg_gpm_scored\n",
    "away_attack_rating = away_side_gpm_scored / epl_home_avg_gpm_conceded\n",
    "home_defense_rating = home_side_gpm_conceded / epl_home_avg_gpm_conceded\n",
    "\n",
    "print(home_attack_rating, away_defense_rating, away_attack_rating, home_defense_rating)\n",
    "\n",
    "# home projected goals\n",
    "home_projected_goals = home_attack_rating * away_defense_rating * epl_home_avg_gpm_scored\n",
    "# away projected goals\n",
    "away_projected_goals = away_attack_rating * home_defense_rating * epl_home_avg_gpm_conceded\n",
    "print(\"\\n ================== projected_goals ==================== \\n\")\n",
    "print(f\"HOME {home_side} projected goals:\", home_projected_goals)\n",
    "print(f\"AWAY {away_side} projected goals: \", away_projected_goals)"
   ]
  },
  {
   "cell_type": "markdown",
   "metadata": {},
   "source": [
    "### Poisson Distribution of Goal Probabilities"
   ]
  },
  {
   "cell_type": "code",
   "execution_count": 13,
   "metadata": {},
   "outputs": [
    {
     "name": "stdout",
     "output_type": "stream",
     "text": [
      "Fulham v. Southampton [[7.29193954e-02 1.48612898e-01 1.51439774e-01 1.02880281e-01\n",
      "  5.24186215e-02 2.13662860e-02 7.25756996e-03 2.11303473e-03\n",
      "  5.38307082e-04]\n",
      " [4.23192919e-02 8.62485570e-02 8.78891545e-02 5.97073061e-02\n",
      "  3.04215214e-02 1.24000767e-02 4.21198256e-03 1.22631480e-03\n",
      "  3.12410360e-04]\n",
      " [1.22801517e-02 2.50274830e-02 2.55035493e-02 1.73257808e-02\n",
      "  8.82767363e-03 3.59823653e-03 1.22222708e-03 3.55850277e-04\n",
      "  9.06547919e-05]\n",
      " [2.37562458e-03 4.84162618e-03 4.93372233e-03 3.35171354e-03\n",
      "  1.70773448e-03 6.96087425e-04 2.36442739e-04 6.88400833e-05\n",
      "  1.75373853e-05]\n",
      " [3.44677674e-04 7.02468085e-04 7.15830249e-04 4.86297724e-04\n",
      "  2.47773976e-04 1.00994827e-04 3.43053082e-05 9.98795851e-06\n",
      "  2.54448671e-06]\n",
      " [4.00072300e-05 8.15364741e-05 8.30874397e-05 5.64452715e-05\n",
      "  2.87594794e-05 1.17226139e-05 3.98186613e-06 1.15931661e-06\n",
      "  2.95342208e-07]\n",
      " [3.86974695e-06 7.88671253e-06 8.03673152e-06 5.45973608e-06\n",
      "  2.78179488e-06 1.13388378e-06 3.85150741e-07 1.12136280e-07\n",
      "  2.85673266e-08]\n",
      " [3.20833612e-07 6.53872850e-07 6.66310649e-07 4.52656691e-07\n",
      "  2.30633504e-07 9.40082218e-08 3.19321405e-08 9.29701297e-09\n",
      "  2.36846458e-09]\n",
      " [2.32747598e-08 4.74349724e-08 4.83372680e-08 3.28378180e-08\n",
      "  1.67312252e-08 6.81979287e-09 2.31650573e-09 6.74448485e-10\n",
      "  1.71819417e-10]]\n"
     ]
    }
   ],
   "source": [
    "# Poisson probability for home team goals 0 - 8\n",
    "home_score_prob = []\n",
    "away_score_prob = []\n",
    "for i in range(9):\n",
    "    prob = poisson.pmf(i, home_projected_goals)\n",
    "    home_score_prob.append(prob)\n",
    "for i in range(9):\n",
    "    prob = poisson.pmf(i, away_projected_goals)\n",
    "    away_score_prob.append(prob)\n",
    "\n",
    "home_score_prob = np.array(home_score_prob)\n",
    "away_score_prob = np.array(away_score_prob)\n",
    "# print(home_score_prob)\n",
    "# print(away_score_prob)\n",
    "\n",
    "exact_score_prob = np.outer(away_score_prob, home_score_prob)\n",
    "print(f\"{home_side} v. {away_side}\", exact_score_prob)"
   ]
  },
  {
   "cell_type": "markdown",
   "metadata": {},
   "source": [
    "### Under Market"
   ]
  },
  {
   "cell_type": "code",
   "execution_count": 14,
   "metadata": {},
   "outputs": [
    {
     "name": "stdout",
     "output_type": "stream",
     "text": [
      "~  ~ under market ~  ~\n",
      " Fulham v. Southampton\n",
      "    Goals      Prob  Implied Odds\n",
      "0    0.5  0.072919     13.713773\n",
      "1    1.5  0.263852      3.790009\n",
      "2    2.5  0.513820      1.946207\n",
      "3    3.5  0.731993      1.366134\n"
     ]
    }
   ],
   "source": [
    "thresholds = [0.5, 1.5, 2.5, 3.5]\n",
    "sums = []\n",
    "\n",
    "for t in thresholds:\n",
    "    mask = np.add.outer(\n",
    "        np.arange(\n",
    "            exact_score_prob.shape[0]\n",
    "        ),\n",
    "        np.arange(\n",
    "            exact_score_prob.shape[1]\n",
    "        )\n",
    "    ) <= t\n",
    "    # print(mask)\n",
    "    sums.append(exact_score_prob[mask].sum())\n",
    "\n",
    "# print(sums)\n",
    "under_market_df = pd.DataFrame({\n",
    "    \"Goals\": thresholds,\n",
    "    \"Prob\": sums\n",
    "})\n",
    "under_market_df[\"Implied Odds\"] = 1 / under_market_df[\"Prob\"]\n",
    "print(\"~  ~ under market ~  ~\\n\", f\"{home_side} v. {away_side}\\n\", under_market_df)"
   ]
  },
  {
   "cell_type": "code",
   "execution_count": 15,
   "metadata": {},
   "outputs": [
    {
     "name": "stdout",
     "output_type": "stream",
     "text": [
      "~  ~ over market ~  ~\n",
      " Fulham v. Southampton\n",
      "    Goals      Prob  Implied Odds\n",
      "0    0.5  0.926809      1.078972\n",
      "1    1.5  0.735876      1.358924\n",
      "2    2.5  0.485908      2.058003\n",
      "3    3.5  0.267735      3.735032\n"
     ]
    }
   ],
   "source": [
    "thresholds = [0.5, 1.5, 2.5, 3.5]\n",
    "sums = []\n",
    "\n",
    "for t in thresholds:\n",
    "    mask = np.add.outer(\n",
    "        np.arange(\n",
    "            exact_score_prob.shape[0]\n",
    "        ),\n",
    "        np.arange(\n",
    "            exact_score_prob.shape[1]\n",
    "        )\n",
    "    ) >= t\n",
    "    sums.append(exact_score_prob[mask].sum())\n",
    "\n",
    "# print(sums)\n",
    "over_market_df = pd.DataFrame({\n",
    "    \"Goals\": thresholds,\n",
    "    \"Prob\": sums\n",
    "})\n",
    "\n",
    "over_market_df[\"Implied Odds\"] = 1 / over_market_df[\"Prob\"]\n",
    "print(\"~  ~ over market ~  ~\\n\", f\"{home_side} v. {away_side}\\n\", over_market_df)"
   ]
  },
  {
   "cell_type": "markdown",
   "metadata": {},
   "source": [
    "### 1 x 2 Probability"
   ]
  },
  {
   "cell_type": "code",
   "execution_count": 16,
   "metadata": {},
   "outputs": [
    {
     "name": "stdout",
     "output_type": "stream",
     "text": [
      "      ~  ~ moneyline market ~  ~\n",
      "             winner      prob  implied_odds\n",
      "0       Fulham (1)  0.717096      1.394513\n",
      "1         Draw (x)  0.188283      5.311151\n",
      "2  Southampton (2)  0.094349     10.598968\n"
     ]
    }
   ],
   "source": [
    "# Poisson probability for home team goals 0 - 8\n",
    "home_score_prob = []\n",
    "away_score_prob = []\n",
    "for i in range(9):\n",
    "    prob = poisson.pmf(i, home_projected_goals)\n",
    "    home_score_prob.append(prob)\n",
    "for i in range(9):\n",
    "    prob = poisson.pmf(i, away_projected_goals)\n",
    "    away_score_prob.append(prob)\n",
    "\n",
    "home_score_prob = np.array(home_score_prob)\n",
    "away_score_prob = np.array(away_score_prob)\n",
    "# print(home_score_prob)\n",
    "# print(away_score_prob)\n",
    "\n",
    "exact_score_prob = np.outer(away_score_prob, home_score_prob)\n",
    "\n",
    "# print(exact_score_prob)\n",
    "home_win_prob = np.sum(np.triu(exact_score_prob, k=1))\n",
    "away_win_prob = np.sum(np.tril(exact_score_prob, k=-1))\n",
    "draw_prob = np.trace(exact_score_prob)\n",
    "\n",
    "# prepare data in readable dataframe\n",
    "data = {\n",
    "    \"winner\": [f\"{home_side} (1)\", \"Draw (x)\", f\"{away_side} (2)\"],\n",
    "    \"prob\": [home_win_prob, draw_prob, away_win_prob],\n",
    "}\n",
    "result_df = pd.DataFrame(data)\n",
    "result_df['implied_odds'] = 1 / result_df['prob']\n",
    "print(\"      ~  ~ moneyline market ~  ~\\n\", result_df)"
   ]
  },
  {
   "cell_type": "markdown",
   "metadata": {},
   "source": [
    "# Full Results Summary:"
   ]
  },
  {
   "cell_type": "code",
   "execution_count": 17,
   "metadata": {},
   "outputs": [
    {
     "name": "stdout",
     "output_type": "stream",
     "text": [
      "CALCULATED PROBABILITIES FOR Fulham v. Southampton\n",
      "\n",
      "\n",
      "        ~ ~ moneyline market ~ ~\n",
      "\n",
      "             winner      prob  implied_odds\n",
      "0       Fulham (1)  0.717096      1.394513\n",
      "1         Draw (x)  0.188283      5.311151\n",
      "2  Southampton (2)  0.094349     10.598968\n",
      "\n",
      "\n",
      "          ~ ~ over market ~ ~ \n",
      "\n",
      "    Goals      Prob  Implied Odds\n",
      "0    0.5  0.926809      1.078972\n",
      "1    1.5  0.735876      1.358924\n",
      "2    2.5  0.485908      2.058003\n",
      "3    3.5  0.267735      3.735032\n",
      "\n",
      "\n",
      "          ~ ~ under market ~ ~ \n",
      "\n",
      "    Goals      Prob  Implied Odds\n",
      "0    0.5  0.072919     13.713773\n",
      "1    1.5  0.263852      3.790009\n",
      "2    2.5  0.513820      1.946207\n",
      "3    3.5  0.731993      1.366134\n",
      "\n",
      " ~~ MyBookie Odds for Fulham v. Southampton ~~\n",
      "       1    x    2  ovr_und_point  over  under\n",
      "2  1.38  4.9  6.9            3.5   2.3   1.57\n",
      "\n",
      " ~~ MyBookie Odds IMPLIED for Fulham v. Southampton ~~\n",
      "           1         x         2  point      over     under\n",
      "2  0.724638  0.204082  0.144928    3.5  0.434783  0.636943\n"
     ]
    }
   ],
   "source": [
    "# helper function to translate discrepency between Understat and Odds-Api naming\n",
    "def translate(string):\n",
    "\n",
    "    translations = {\n",
    "        \"Brighton\": \"Brighton and Hove Albion\",\n",
    "        \"Ipswich\": \"Ipswich Town\",\n",
    "        \"Leicester\": \"Leicester City\",\n",
    "        \"Tottenham\": \"Tottenham Hotspur\",\n",
    "        \"West Ham\": \"West Ham United\"\n",
    "    }\n",
    "\n",
    "    if string in translations:\n",
    "        return translations[string]\n",
    "    return string\n",
    "\n",
    "home_side, away_side = translate(home_side), translate(away_side)\n",
    "\n",
    "match_string = f\"{home_side} v. {away_side}\"\n",
    "\n",
    "print(f\"CALCULATED PROBABILITIES FOR {home_side} v. {away_side}\")\n",
    "print(\"\\n\\n        ~ ~ moneyline market ~ ~\\n\\n\", result_df)\n",
    "print(\"\\n\\n          ~ ~ over market ~ ~ \\n\\n\", over_market_df)\n",
    "print(\"\\n\\n          ~ ~ under market ~ ~ \\n\\n\", under_market_df)\n",
    "\n",
    "try:\n",
    "    odds_df = pd.read_csv(f\"../data/processed/odds/odds_matchday_{matchday}.csv\")\n",
    "    filtered_odds = odds_df.loc[odds_df[\"match\"] == match_string]\n",
    "    implied = {\n",
    "        \"1\": 1 / filtered_odds[\"1\"],\n",
    "        \"x\": 1 / filtered_odds[\"x\"],\n",
    "        \"2\": 1 / filtered_odds[\"2\"],\n",
    "        \"point\": filtered_odds[\"ovr_und_point\"],\n",
    "        \"over\": 1 / filtered_odds[\"over\"],\n",
    "        \"under\": 1 / filtered_odds[\"under\"]\n",
    "    }\n",
    "    implied_odds_df = pd.DataFrame(implied)\n",
    "\n",
    "    print(f\"\\n ~~ MyBookie Odds for {match_string} ~~\\n\",filtered_odds.drop(columns=[\"match\"]))\n",
    "    print(f\"\\n ~~ MyBookie Odds IMPLIED for {match_string} ~~\\n\", implied_odds_df)\n",
    "except:\n",
    "    print(f\"No data for sportsbook odds on matchday {matchday}. To view against real odds, run `notebooks/03_retrieve_odds.ipynb` ran correctly and ensure matchday is correct in the first cell of this notebook\")\n"
   ]
  },
  {
   "cell_type": "markdown",
   "metadata": {},
   "source": [
    "# Conclusion and Pick\n",
    "SAFE: Fulham win - Southampton in dreadful form, this bet is for that run of terrible form to continue.\n",
    "\n",
    "### My Pick:\n",
    "\n",
    "**Fullhgam @ 1.38** -- *1 unit*"
   ]
  },
  {
   "cell_type": "markdown",
   "metadata": {},
   "source": []
  }
 ],
 "metadata": {
  "kernelspec": {
   "display_name": ".venv",
   "language": "python",
   "name": "python3"
  },
  "language_info": {
   "codemirror_mode": {
    "name": "ipython",
    "version": 3
   },
   "file_extension": ".py",
   "mimetype": "text/x-python",
   "name": "python",
   "nbconvert_exporter": "python",
   "pygments_lexer": "ipython3",
   "version": "3.12.1"
  }
 },
 "nbformat": 4,
 "nbformat_minor": 2
}
