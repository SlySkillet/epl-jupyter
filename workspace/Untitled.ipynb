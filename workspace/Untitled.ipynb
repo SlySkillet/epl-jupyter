{
 "cells": [
  {
   "cell_type": "code",
   "execution_count": 1,
   "id": "b1353f2f-6d42-44e6-b6a9-6f49c97cfba0",
   "metadata": {},
   "outputs": [
    {
     "name": "stdout",
     "output_type": "stream",
     "text": [
      "<Response [200]>\n",
      "Data retrieved from football-data API\n",
      "              name    id\n",
      "0        Liverpool    64\n",
      "1         Man City    65\n",
      "2       Nottingham   351\n",
      "3          Arsenal    57\n",
      "4      Aston Villa    58\n",
      "5          Chelsea    61\n",
      "6    Brighton Hove   397\n",
      "7      Bournemouth  1044\n",
      "8        Newcastle    67\n",
      "9        Tottenham    73\n",
      "10       Brentford   402\n",
      "11          Fulham    63\n",
      "12      Man United    66\n",
      "13        West Ham   563\n",
      "14  Leicester City   338\n",
      "15         Everton    62\n",
      "16  Crystal Palace   354\n",
      "17    Ipswich Town   349\n",
      "18     Southampton   340\n",
      "19   Wolverhampton    76\n"
     ]
    }
   ],
   "source": [
    "import requests\n",
    "from dotenv import load_dotenv\n",
    "import os\n",
    "import pandas as pd\n",
    "\n",
    "load_dotenv()\n",
    "\n",
    "# access football-data.org API\n",
    "API_KEY = os.getenv('FOOTBALL_DATA_API_KEY')\n",
    "\n",
    "''' GET IDS and NAMES for EPL CLUBS '''\n",
    "url = 'https://api.football-data.org/v4/competitions/PL/standings'\n",
    "\n",
    "headers = {\n",
    "    'X-Auth-Token': API_KEY\n",
    "}\n",
    "\n",
    "response = requests.get(url, headers=headers)\n",
    "print(response)\n",
    "\n",
    "if response.status_code == 200:\n",
    "    print('Data retrieved from football-data API')\n",
    "    data = response.json()\n",
    "    clubs = data[\"standings\"][0][\"table\"]\n",
    "    club_data = pd.DataFrame([{\n",
    "        'name': c[\"team\"][\"shortName\"],\n",
    "        'id': c[\"team\"][\"id\"]\n",
    "    } for c in clubs])\n",
    "    print(club_data)\n",
    "\n",
    "else:\n",
    "    print(f\"failed to retrieve data: {response.status_code}\")"
   ]
  },
  {
   "cell_type": "code",
   "execution_count": 3,
   "id": "e957903c-720e-4494-81dc-77e43fddfe7c",
   "metadata": {},
   "outputs": [
    {
     "name": "stdout",
     "output_type": "stream",
     "text": [
      "<Response [200]>\n",
      "Data retrieved from football-data API\n",
      "  home_squad  ht_score_home away_squad  ht_score_away  nil_nil_ht\n",
      "0        ARS              1        WOL              0       False\n",
      "1        WOL              2        CHE              2       False\n",
      "2        NOT              1        WOL              1       False\n",
      "3        WOL              1        NEW              0       False\n",
      "4        AVL              0        WOL              1       False\n",
      "5        WOL              0        LIV              1       False\n",
      "6        BRE              4        WOL              2       False\n",
      "7        WOL              1        MCI              1       False\n",
      "8        BHA              1        WOL              0       False\n"
     ]
    }
   ],
   "source": [
    "''' SHOW firsthalf 0-0 instances for a given club '''\n",
    "\n",
    "club_id = 76\n",
    "url = f\"https://api.football-data.org/v4/teams/{club_id}/matches?season=2024&status=FINISHED\"\n",
    "\n",
    "response = requests.get(url, headers=headers)\n",
    "print(response)\n",
    "\n",
    "if response.status_code == 200:\n",
    "    print('Data retrieved from football-data API')\n",
    "    data = response.json()\n",
    "    matches_data = data[\"matches\"]\n",
    "    ht_scores = pd.DataFrame([{\n",
    "        'home_squad': m[\"homeTeam\"][\"tla\"],\n",
    "        'ht_score_home': m[\"score\"][\"halfTime\"][\"home\"],\n",
    "        'away_squad': m[\"awayTeam\"][\"tla\"],\n",
    "        'ht_score_away': m[\"score\"][\"halfTime\"][\"away\"],\n",
    "        'nil_nil_ht': (True if (\n",
    "            (m[\"score\"][\"halfTime\"][\"home\"] == 0 and m[\"score\"][\"halfTime\"][\"away\"] == 0)\n",
    "        )else (False))\n",
    "\n",
    "    } for m in matches_data])\n",
    "    # print(ht_scores[\"nil_nil_ht\"].value_counts(normalize=True).get(True, 0) * 100)\n",
    "    nil_nil_ht_pct = ht_scores[\"nil_nil_ht\"].value_counts(normalize=True).get(True, 0) *100\n",
    "    print(ht_scores)\n",
    "else:\n",
    "    print(f\"failed to retrieve data: {response.status_code}\")"
   ]
  },
  {
   "cell_type": "code",
   "execution_count": null,
   "id": "32c898b2-ad8f-423e-b2b8-00465ed4b892",
   "metadata": {},
   "outputs": [],
   "source": []
  }
 ],
 "metadata": {
  "kernelspec": {
   "display_name": "Python 3 (ipykernel)",
   "language": "python",
   "name": "python3"
  },
  "language_info": {
   "codemirror_mode": {
    "name": "ipython",
    "version": 3
   },
   "file_extension": ".py",
   "mimetype": "text/x-python",
   "name": "python",
   "nbconvert_exporter": "python",
   "pygments_lexer": "ipython3",
   "version": "3.12.1"
  }
 },
 "nbformat": 4,
 "nbformat_minor": 5
}
