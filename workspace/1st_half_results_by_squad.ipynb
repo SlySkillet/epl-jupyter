{
 "cells": [
  {
   "cell_type": "code",
   "execution_count": 59,
   "id": "4fb1aa7b-aee4-490c-8e59-091e631c3300",
   "metadata": {},
   "outputs": [
    {
     "name": "stdout",
     "output_type": "stream",
     "text": [
      "<Response [200]>\n",
      "Data retrieved from football-data API\n",
      "              name    id\n",
      "0         Man City    65\n",
      "1        Liverpool    64\n",
      "2          Arsenal    57\n",
      "3      Aston Villa    58\n",
      "4          Chelsea    61\n",
      "5    Brighton Hove   397\n",
      "6       Nottingham   351\n",
      "7        Tottenham    73\n",
      "8        Brentford   402\n",
      "9           Fulham    63\n",
      "10     Bournemouth  1044\n",
      "11       Newcastle    67\n",
      "12        West Ham   563\n",
      "13      Man United    66\n",
      "14  Leicester City   338\n",
      "15         Everton    62\n",
      "16  Crystal Palace   354\n",
      "17    Ipswich Town   349\n",
      "18   Wolverhampton    76\n",
      "19     Southampton   340\n"
     ]
    }
   ],
   "source": [
    "import requests\n",
    "from dotenv import load_dotenv\n",
    "import os\n",
    "import pandas as pd\n",
    "\n",
    "load_dotenv()\n",
    "\n",
    "# access football-data.org API\n",
    "API_KEY = os.getenv('FOOTBALL_DATA_API_KEY')\n",
    "\n",
    "''' GET IDS and NAMES for EPL CLUBS '''\n",
    "url = 'https://api.football-data.org/v4/competitions/PL/standings'\n",
    "\n",
    "headers = {\n",
    "    'X-Auth-Token': API_KEY\n",
    "}\n",
    "\n",
    "response = requests.get(url, headers=headers)\n",
    "print(response)\n",
    "\n",
    "if response.status_code == 200:\n",
    "    print('Data retrieved from football-data API')\n",
    "    data = response.json()\n",
    "    clubs = data[\"standings\"][0][\"table\"]\n",
    "    club_data = pd.DataFrame([{\n",
    "        'name': c[\"team\"][\"shortName\"],\n",
    "        'id': c[\"team\"][\"id\"]\n",
    "    } for c in clubs])\n",
    "    print(club_data)\n",
    "\n",
    "else:\n",
    "    print(f\"failed to retrieve data: {response.status_code}\")"
   ]
  },
  {
   "cell_type": "code",
   "execution_count": 65,
   "id": "bbbc0736-8851-4b3b-8b3b-2281da9ea84d",
   "metadata": {},
   "outputs": [
    {
     "name": "stdout",
     "output_type": "stream",
     "text": [
      "<Response [200]>\n",
      "Data retrieved from football-data API\n",
      "  home_squad  ht_score_home away_squad  ht_score_away  nil_nil_ht\n",
      "0        MUN              0        FUL              0        True\n",
      "1        BHA              1        MUN              0       False\n",
      "2        MUN              0        LIV              2       False\n",
      "3        SOU              0        MUN              2       False\n",
      "4        CRY              0        MUN              0        True\n",
      "5        MUN              0        TOT              1       False\n",
      "6        AVL              0        MUN              0        True\n",
      "7        MUN              0        BRE              1       False\n",
      "8        WHU              0        MUN              0        True\n"
     ]
    }
   ],
   "source": [
    "''' SHOW firsthalf 0-0 instances for a given club '''\n",
    "\n",
    "club_id = 354\n",
    "url = f\"https://api.football-data.org/v4/teams/{club_id}/matches?season=2024&status=FINISHED\"\n",
    "\n",
    "response = requests.get(url, headers=headers)\n",
    "print(response)\n",
    "\n",
    "if response.status_code == 200:\n",
    "    print('Data retrieved from football-data API')\n",
    "    data = response.json()\n",
    "    matches_data = data[\"matches\"]\n",
    "    ht_scores = pd.DataFrame([{\n",
    "        'home_squad': m[\"homeTeam\"][\"tla\"],\n",
    "        'ht_score_home': m[\"score\"][\"halfTime\"][\"home\"],\n",
    "        'away_squad': m[\"awayTeam\"][\"tla\"],\n",
    "        'ht_score_away': m[\"score\"][\"halfTime\"][\"away\"],\n",
    "        'nil_nil_ht': (True if (\n",
    "            (m[\"score\"][\"halfTime\"][\"home\"] == 0 and m[\"score\"][\"halfTime\"][\"away\"] == 0)\n",
    "        )else (False))\n",
    "\n",
    "    } for m in matches_data])\n",
    "    # print(ht_scores[\"nil_nil_ht\"].value_counts(normalize=True).get(True, 0) * 100)\n",
    "    nil_nil_ht_pct = ht_scores[\"nil_nil_ht\"].value_counts(normalize=True).get(True, 0) *100\n",
    "    print(ht_scores)\n",
    "else:\n",
    "    print(f\"failed to retrieve data: {response.status_code}\")"
   ]
  },
  {
   "cell_type": "code",
   "execution_count": 70,
   "id": "5ae655e8-7fb3-40b2-877c-7b0d1dfcb6d1",
   "metadata": {},
   "outputs": [
    {
     "name": "stdout",
     "output_type": "stream",
     "text": [
      "Pandas(Index=11, name='Newcastle', id=67)\n",
      "67\n",
      "TEST: 44.44444444444444\n",
      "Pandas(Index=12, name='West Ham', id=563)\n",
      "563\n",
      "TEST: 44.44444444444444\n",
      "Pandas(Index=13, name='Man United', id=66)\n",
      "66\n",
      "failed to retrieve data: 429 club_id = 66\n",
      "TEST: None\n",
      "Pandas(Index=14, name='Leicester City', id=338)\n",
      "338\n",
      "failed to retrieve data: 429 club_id = 338\n",
      "TEST: None\n",
      "Pandas(Index=15, name='Everton', id=62)\n",
      "62\n",
      "failed to retrieve data: 429 club_id = 62\n",
      "TEST: None\n",
      "Pandas(Index=16, name='Crystal Palace', id=354)\n",
      "354\n",
      "failed to retrieve data: 429 club_id = 354\n",
      "TEST: None\n",
      "Pandas(Index=17, name='Ipswich Town', id=349)\n",
      "349\n",
      "failed to retrieve data: 429 club_id = 349\n",
      "TEST: None\n",
      "Pandas(Index=18, name='Wolverhampton', id=76)\n",
      "76\n",
      "failed to retrieve data: 429 club_id = 76\n",
      "TEST: None\n",
      "Pandas(Index=19, name='Southampton', id=340)\n",
      "340\n",
      "failed to retrieve data: 429 club_id = 340\n",
      "TEST: None\n",
      "             name  percent_nil_nil_ht\n",
      "0       Newcastle           22.222222\n",
      "1        West Ham           22.222222\n",
      "2      Man United           22.222222\n",
      "3  Leicester City           22.222222\n",
      "4         Everton           22.222222\n",
      "5  Crystal Palace           22.222222\n",
      "6    Ipswich Town           22.222222\n",
      "7   Wolverhampton           22.222222\n",
      "8     Southampton           22.222222\n"
     ]
    }
   ],
   "source": [
    "import time\n",
    "\n",
    "def calculate_ht_nil_nil_percentage(club_id):\n",
    "    url = f\"https://api.football-data.org/v4/teams/{club_id}/matches?season=2024&status=FINISHED\"\n",
    "    response = requests.get(url, headers=headers)\n",
    "    if response.status_code == 200:\n",
    "        # print('input', club_id)\n",
    "        data = response.json()\n",
    "        club_matches_data = data[\"matches\"]\n",
    "        new_ht_scores = pd.DataFrame([{\n",
    "            'nil_nil_ht': (True if (\n",
    "                (m[\"score\"][\"halfTime\"][\"home\"] == 0 and m[\"score\"][\"halfTime\"][\"away\"] == 0)\n",
    "            )else False)\n",
    "        } for m in matches_data])\n",
    "        nil_nil_ht_pct = new_ht_scores[\"nil_nil_ht\"].value_counts(normalize=True).get(True, 0) *100\n",
    "        return nil_nil_ht_pct\n",
    "    else:\n",
    "        print(f\"failed to retrieve data: {response.status_code} club_id = {club_id}\")\n",
    "\n",
    "results = []\n",
    "# we run into an issue: I am limited to 10 calls per minute on my free-tier. I can't run this for 19 clubs like I wrote it here.\n",
    "# I abbreviate it with head(9)\n",
    "for row in club_data.tail(9).itertuples():\n",
    "    print(row)\n",
    "    club_id = row.id\n",
    "    print(club_id)\n",
    "    name = row.name\n",
    "    percent_nil_nil_ht = calculate_ht_nil_nil_percentage(club_id)\n",
    "    print('TEST:', percent_nil_nil_ht)\n",
    "    results.append({\n",
    "        'name': name,\n",
    "        'percent_nil_nil_ht': percent_nil_nil_ht\n",
    "    })\n",
    "print(results_df)\n"
   ]
  },
  {
   "cell_type": "code",
   "execution_count": 60,
   "id": "963e81a2-2b66-42a0-a3e1-8c1e18f3c586",
   "metadata": {},
   "outputs": [
    {
     "name": "stdout",
     "output_type": "stream",
     "text": [
      "22.22222222222222\n"
     ]
    }
   ],
   "source": [
    "print(calculate_ht_nil_nil_percentage(65))"
   ]
  },
  {
   "cell_type": "code",
   "execution_count": 68,
   "id": "a222b76a-20e5-4f32-b741-6cda4e085098",
   "metadata": {},
   "outputs": [
    {
     "name": "stdout",
     "output_type": "stream",
     "text": [
      "44.44444444444444\n"
     ]
    }
   ],
   "source": [
    "print(calculate_ht_nil_nil_percentage(67))"
   ]
  },
  {
   "cell_type": "code",
   "execution_count": null,
   "id": "d4724174-a616-463b-95a7-8ff38b24a0e8",
   "metadata": {},
   "outputs": [],
   "source": []
  }
 ],
 "metadata": {
  "kernelspec": {
   "display_name": "Python 3 (ipykernel)",
   "language": "python",
   "name": "python3"
  },
  "language_info": {
   "codemirror_mode": {
    "name": "ipython",
    "version": 3
   },
   "file_extension": ".py",
   "mimetype": "text/x-python",
   "name": "python",
   "nbconvert_exporter": "python",
   "pygments_lexer": "ipython3",
   "version": "3.12.1"
  }
 },
 "nbformat": 4,
 "nbformat_minor": 5
}
