{
 "cells": [
  {
   "cell_type": "code",
   "execution_count": 4,
   "id": "11161f85-e7fe-470c-a9ad-76b5b0665df3",
   "metadata": {},
   "outputs": [
    {
     "name": "stdout",
     "output_type": "stream",
     "text": [
      "scraper is locating element...\n",
      "element located:  <selenium.webdriver.remote.webelement.WebElement (session=\"a500e9f49742a4f9fc51d0bcc8fe6d19\", element=\"f.0743CB4731B8DF42C946CA94FCB737E1.d.3BDB0074A8DA9E084EBF0A1EE8E77872.e.12\")>\n",
      "element html:  <input id=\"home-away2\" type=\"radio\" name=\"home-away\" value=\"h\">\n"
     ]
    }
   ],
   "source": [
    "import sys\n",
    "sys.path.append('../scraper')\n",
    "\n",
    "from epl_table_scraper import WebScraper\n",
    "\n",
    "scraper = WebScraper(url=\"https://understat.com/league/EPL\")\n",
    "scraper.load_page()\n",
    "scraper.click_element(\"home-away2\")"
   ]
  },
  {
   "cell_type": "code",
   "execution_count": null,
   "id": "4b85cbde-8839-4dee-9171-6ae266ad5c2a",
   "metadata": {},
   "outputs": [],
   "source": []
  }
 ],
 "metadata": {
  "kernelspec": {
   "display_name": "Python 3 (ipykernel)",
   "language": "python",
   "name": "python3"
  },
  "language_info": {
   "codemirror_mode": {
    "name": "ipython",
    "version": 3
   },
   "file_extension": ".py",
   "mimetype": "text/x-python",
   "name": "python",
   "nbconvert_exporter": "python",
   "pygments_lexer": "ipython3",
   "version": "3.12.1"
  }
 },
 "nbformat": 4,
 "nbformat_minor": 5
}
