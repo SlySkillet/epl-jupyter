{
 "cells": [
  {
   "cell_type": "markdown",
   "id": "ae4bd44f-3c3d-4ff6-94b8-92ceae2fb304",
   "metadata": {},
   "source": [
    "# 1 x 2 Probability for Given English Premier League Match\n",
    "\n",
    "This is a reusable notebook that will calculate probability of a home win, draw, or away win (1 x 2) for any match in the English Premier League. All data will be scraped from Understat"
   ]
  },
  {
   "cell_type": "code",
   "execution_count": 2,
   "id": "11161f85-e7fe-470c-a9ad-76b5b0665df3",
   "metadata": {},
   "outputs": [
    {
     "name": "stdout",
     "output_type": "stream",
     "text": [
      "scraper is locating element... check\n",
      "element located:  <selenium.webdriver.remote.webelement.WebElement (session=\"3a6b1060dc1b3ed101948144506f388a\", element=\"f.51669E5179C52255919E986B32950EA1.d.7A38E97FA116E32AE487263E7BC8D3A1.e.26\")>\n",
      "element html:  <input id=\"home-away3\" type=\"radio\" name=\"home-away\" value=\"a\">\n",
      "clicked the button\n",
      "checking table update...\n",
      "confirmed table updated successfully\n",
      "found table\n",
      "closing driver...\n",
      "driver closed\n",
      "     №                     Team  M  W  D  L   G  GA PTS          xG  \\\n",
      "0    1                Liverpool  5  4  1  0  10   3  13  11.58+1.58   \n",
      "1    2        Nottingham Forest  5  3  2  0   8   4  11   9.03+1.03   \n",
      "2    3                  Chelsea  5  3  1  1  12   5  10   7.91-4.09   \n",
      "3    4          Manchester City  6  3  1  2  10   7  10  11.96+1.96   \n",
      "4    5              Aston Villa  6  3  1  2  10  11  10  11.57+1.57   \n",
      "5    6                   Fulham  6  2  2  2   7   6   8   9.55+2.55   \n",
      "6    7         Newcastle United  6  2  2  2   8   8   8   9.88+1.88   \n",
      "7    8                  Arsenal  6  2  2  2   6   6   8   7.43+1.43   \n",
      "8    9                 Brighton  5  2  1  2   8   7   7   7.51-0.49   \n",
      "9   10        Manchester United  5  1  2  2   5   4   5   9.74+4.74   \n",
      "10  11              Bournemouth  6  1  2  3   7  11   5  11.11+4.11   \n",
      "11  12                  Everton  6  1  2  3   5   9   5   7.58+2.58   \n",
      "12  13                 West Ham  5  1  2  2   5   9   5   4.09-0.91   \n",
      "13  14                Leicester  6  1  2  3   9  14   5   8.44-0.56   \n",
      "14  15                  Ipswich  6  1  2  3   8  14   5   7.87-0.13   \n",
      "15  16                Tottenham  5  1  1  3   7   7   4  10.56+3.56   \n",
      "16  17           Crystal Palace  5  0  2  3   5   8   2   6.21+1.21   \n",
      "17  18  Wolverhampton Wanderers  5  0  2  3   7  13   2   3.84-3.16   \n",
      "18  19                Brentford  5  0  0  5   4  11   0   4.03+0.03   \n",
      "19  20              Southampton  6  0  0  6   3  13   0   6.73+3.73   \n",
      "\n",
      "           xGA        xPTS  \n",
      "0    4.29+1.29  11.27-1.73  \n",
      "1    6.06+2.06   8.41-2.59  \n",
      "2    9.10+4.10   5.72-4.28  \n",
      "3    9.43+2.43   9.67-0.33  \n",
      "4   12.84+1.84   7.54-2.46  \n",
      "5    7.58+1.58   9.92+1.92  \n",
      "6   10.70+2.70   8.26+0.26  \n",
      "7    9.15+3.15   7.25-0.75  \n",
      "8   10.23+3.23   5.69-1.31  \n",
      "9    8.69+4.69   7.39+2.39  \n",
      "10  10.69-0.31   8.85+3.85  \n",
      "11   9.95+0.95   7.29+2.29  \n",
      "12   8.42-0.58   4.46-0.54  \n",
      "13  15.90+1.90   5.58+0.58  \n",
      "14  17.97+3.97   3.22-1.78  \n",
      "15   6.16-0.84   8.12+4.12  \n",
      "16   9.00+1.00   5.27+3.27  \n",
      "17  11.06-1.94   2.87+0.87  \n",
      "18  11.36+0.36   2.80+2.80  \n",
      "19  13.07+0.07   5.16+5.16  \n"
     ]
    }
   ],
   "source": [
    "import sys\n",
    "sys.path.append('../scraper')\n",
    "\n",
    "from epl_table_scraper import WebScraper\n",
    "\n",
    "scraper = WebScraper(url=\"https://understat.com/league/EPL\")\n",
    "scraper.load_page()\n",
    "scraper.click_element(\"home-away3\")\n",
    "data_frame = scraper.scrape_table()\n",
    "\n",
    "scraper.close()\n",
    "\n",
    "print(data_frame)"
   ]
  },
  {
   "cell_type": "code",
   "execution_count": null,
   "id": "5b37fce4-4657-4672-b097-c51001cf65a6",
   "metadata": {},
   "outputs": [],
   "source": []
  },
  {
   "cell_type": "code",
   "execution_count": null,
   "id": "4b85cbde-8839-4dee-9171-6ae266ad5c2a",
   "metadata": {},
   "outputs": [],
   "source": []
  },
  {
   "cell_type": "code",
   "execution_count": null,
   "id": "39a13a13-6b51-4d75-998f-ee12893e6477",
   "metadata": {},
   "outputs": [],
   "source": []
  }
 ],
 "metadata": {
  "kernelspec": {
   "display_name": "Python 3 (ipykernel)",
   "language": "python",
   "name": "python3"
  },
  "language_info": {
   "codemirror_mode": {
    "name": "ipython",
    "version": 3
   },
   "file_extension": ".py",
   "mimetype": "text/x-python",
   "name": "python",
   "nbconvert_exporter": "python",
   "pygments_lexer": "ipython3",
   "version": "3.12.1"
  }
 },
 "nbformat": 4,
 "nbformat_minor": 5
}
