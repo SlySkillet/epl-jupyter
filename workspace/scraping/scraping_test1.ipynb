{
 "cells": [
  {
   "cell_type": "markdown",
   "id": "051bb987",
   "metadata": {},
   "source": [
    "# First test scraping the Understat EPL table\n",
    "\n",
    "## [1] Attempt to scrape the table regular\n",
    "Ensure that beautifulsoup is installed\n",
    "Fetch web page\n",
    "\n",
    "Locate table\n",
    "\n",
    "*problem* there are two tables without classes, how to differentiate?\n",
    "*resolved issue* container has an id 'league-chemp'\n",
    "\n",
    "*new problem* bs4 finds the div but it's empty\n",
    "Table appears to be rendered with javascript so we need to try selienium to retrieve it.\n",
    "\n",
    "\n",
    "\n",
    "\n",
    "## [2] Attempt to sort the table alphabetically\n",
    "\n",
    "## [3] Attempt to sort the table by AWAY results and HOME results\n",
    "\n",
    "## [4] Write tests to confirm it's working correctly\n"
   ]
  },
  {
   "cell_type": "code",
   "execution_count": 8,
   "id": "b22260d8",
   "metadata": {},
   "outputs": [
    {
     "name": "stdout",
     "output_type": "stream",
     "text": [
      "success\n",
      "<div class=\"chemp margin-top\" id=\"league-chemp\">\n",
      "</div>\n",
      "\n",
      "failed to find table\n"
     ]
    }
   ],
   "source": [
    "import requests\n",
    "from bs4 import BeautifulSoup\n",
    "import pandas as pd\n",
    "\n",
    "# fetch page\n",
    "url = \"https://understat.com/league/EPL\"\n",
    "response = requests.get(url)\n",
    "if response.status_code == 200:\n",
    "    soup = BeautifulSoup(response.content, \"html.parser\")\n",
    "    print('success')\n",
    "else:\n",
    "    print(f\"Failed with status code {response.status_code}\")\n",
    "\n",
    "# locate table\n",
    "div = soup.find(\"div\", {\n",
    "    \"id\": \"league-chemp\"\n",
    "})\n",
    "\n",
    "if div:\n",
    "    print(div.prettify())\n",
    "    table = div.find(\"table\")\n",
    "    if table:\n",
    "        print(\"found the table\")\n",
    "    else:\n",
    "        print(\"failed to find table\")\n",
    "else:\n",
    "    print(\"div not found\")\n",
    "# table = soup.find(\"table\")\n",
    "\n",
    "\n",
    "# find table rows\n",
    "# rows = table.find_all(\"tr\")\n",
    "\n",
    "\n"
   ]
  },
  {
   "cell_type": "code",
   "execution_count": null,
   "id": "f18ff2f2-1455-482b-ba79-d095e21d01c7",
   "metadata": {},
   "outputs": [],
   "source": []
  }
 ],
 "metadata": {
  "kernelspec": {
   "display_name": "Python 3 (ipykernel)",
   "language": "python",
   "name": "python3"
  },
  "language_info": {
   "codemirror_mode": {
    "name": "ipython",
    "version": 3
   },
   "file_extension": ".py",
   "mimetype": "text/x-python",
   "name": "python",
   "nbconvert_exporter": "python",
   "pygments_lexer": "ipython3",
   "version": "3.12.1"
  }
 },
 "nbformat": 4,
 "nbformat_minor": 5
}
