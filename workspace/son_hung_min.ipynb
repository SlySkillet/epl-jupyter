{
 "cells": [
  {
   "cell_type": "code",
   "execution_count": 14,
   "id": "63f75aee-16cf-4cd6-95fb-350dbe64e359",
   "metadata": {},
   "outputs": [
    {
     "name": "stdout",
     "output_type": "stream",
     "text": [
      "============ SON HEUNG-MIN matches ===========\n",
      "             Home Squad            Away Squad     Winner Tottenham Win\n",
      "0  Tottenham Hotspur FC    West Ham United FC  HOME_TEAM           WIN\n",
      "1  Tottenham Hotspur FC          Brentford FC  HOME_TEAM           WIN\n",
      "2  Tottenham Hotspur FC            Arsenal FC  AWAY_TEAM          LOSS\n",
      "3   Newcastle United FC  Tottenham Hotspur FC  HOME_TEAM          LOSS\n",
      "4  Tottenham Hotspur FC            Everton FC  HOME_TEAM           WIN\n",
      "5     Leicester City FC  Tottenham Hotspur FC       DRAW          DRAW\n"
     ]
    }
   ],
   "source": [
    "import pandas as pd\n",
    "import requests\n",
    "\n",
    "API_KEY = 'dff583c5ba204ca3b3b07d4a8491e39c'\n",
    "url = 'https://api.football-data.org/v4/persons/170281/matches'\n",
    "headers = {\n",
    "    'X-Auth-Token': API_KEY\n",
    "}\n",
    "\n",
    "response = requests.get(url, headers=headers)\n",
    "\n",
    "if response.status_code == 200:\n",
    "    data = response.json()\n",
    "    match_results = data['matches']\n",
    "    sons_matches_df = pd.DataFrame([{\n",
    "        'Home Squad': match['homeTeam']['name'],\n",
    "        'Away Squad': match['awayTeam']['name'],\n",
    "        'Winner': match['score']['winner'],\n",
    "        'Tottenham Result': (\n",
    "            'WIN' if (\n",
    "                (match['homeTeam']['name'] == 'Tottenham Hotspur FC' and match['score']['winner'] == 'HOME_TEAM') or\n",
    "                (match['awayTeam']['name'] == 'Tottenham Hotspur FC' and match['score']['winner'] == 'AWAY_TEAM')\n",
    "            ) else 'DRAW' if match['score']['winner'] == 'DRAW' else 'LOSS'\n",
    "        )\n",
    "    }for match in match_results])\n",
    "    print('============ SON HEUNG-MIN matches ===========')\n",
    "    print(sons_matches_df)\n",
    "else:\n",
    "    print(f\"Failed to retrieve data: {response.status_code}\")"
   ]
  },
  {
   "cell_type": "code",
   "execution_count": null,
   "id": "e0d5f1cc-6e6a-4d10-a073-ab6a36a8f7a4",
   "metadata": {},
   "outputs": [],
   "source": [
    "# all club matches\n",
    "# minutes played by influential player\n",
    "# goals scored by player\n",
    "# result"
   ]
  }
 ],
 "metadata": {
  "kernelspec": {
   "display_name": "Python 3 (ipykernel)",
   "language": "python",
   "name": "python3"
  },
  "language_info": {
   "codemirror_mode": {
    "name": "ipython",
    "version": 3
   },
   "file_extension": ".py",
   "mimetype": "text/x-python",
   "name": "python",
   "nbconvert_exporter": "python",
   "pygments_lexer": "ipython3",
   "version": "3.12.1"
  }
 },
 "nbformat": 4,
 "nbformat_minor": 5
}
